{
  "nbformat": 4,
  "nbformat_minor": 0,
  "metadata": {
    "kernelspec": {
      "display_name": "Python 3",
      "language": "python",
      "name": "python3"
    },
    "language_info": {
      "codemirror_mode": {
        "name": "ipython",
        "version": 3
      },
      "file_extension": ".py",
      "mimetype": "text/x-python",
      "name": "python",
      "nbconvert_exporter": "python",
      "pygments_lexer": "ipython3",
      "version": "3.8.5"
    },
    "colab": {
      "name": "SL1_InterruptsAndTimers.ipynb",
      "provenance": [],
      "toc_visible": true
    }
  },
  "cells": [
    {
      "cell_type": "markdown",
      "metadata": {
        "id": "e6dX0uyczGZI"
      },
      "source": [
        "# Supplementary Labsheet 1: Interrupts and Timers\n",
        "\n",
        "This worksheet will cover Interrupts and Timers, which are internal devices to the microcontroller.  You could think of them as independent and very simple 'computers' inside the microcontroller.  \n",
        "\n",
        "In this labsheet we are going to:\n",
        " - Set up Timer3 to flash an LED every 0.5 seconds.\n",
        " - Experiment with how an interrupt behaves relative to the loop() routine.\n",
        "\n",
        "The worksheet goes right down into register operations for the microcontroller.  As a rule, you can think of registers as 'tables of switches'.  To utilise or configure some hardware within the microcontroller, you need to find out the right place to put a 1 or 0 to switch something on or off.\n",
        "\n",
        "Do not worry if you find this overwhelming - everyone does at first because there is too much information to learn at once.  It takes time to get used to all the strange names and processes.  In fact, one of the necessary learning steps with microcontrollers is to get used to the huge manuals, and the intimidating feeling of searching for the right information.  With time, once you get used to it, it can become fun.  We will guide you through the process, and hopefully you will come to see that working with low level registers is a step-by-step process of investigation.  \n",
        "\n",
        "You can't really break a microcontroller with just code on its own - so try things out, see what happens.  Microcontrollers are tricky to debug, so take small steps.\n",
        "\n",
        "You may regard much of this labsheet as theory - so see this as an opportunity to explore.  In the core labsheets we give you code to setup the encoder pin change interrupts.  By following this labsheet, you should get closer to understand what is going on.  If you can get to grips with this labsheet, you may wish to try putting your PID update routines into a timer interrupt.  Another interesting use of the timer interrupt could be to read the line sensors.  \n",
        "\n",
        "Beyond the study of this Unit you'll likely find and use a library of code written by someone else.  It is quite normal to search help forums and adjust someone elses code.  However it is very likely you'll need to understand how interrupts and timers work to satisfy your own requirements.  \n",
        "\n",
        "You may want to open the <a href=\"http://ww1.microchip.com/downloads/en/devicedoc/atmel-7766-8-bit-avr-atmega16u4-32u4_datasheet.pdf\">manual</a> for the chip we are using, and find the references as we go.\n",
        "\n",
        "\n"
      ]
    },
    {
      "cell_type": "markdown",
      "metadata": {
        "id": "-H63mqO4zGZL"
      },
      "source": [
        "\n",
        "**Note**: This labsheet has a large amount of introductory text before you are introduced to a full template of code (section \"Timer 3 Code Template\").\n"
      ]
    },
    {
      "cell_type": "markdown",
      "metadata": {
        "id": "e3sgL0b0zqmk"
      },
      "source": [
        "<hr><br><br><br><br>"
      ]
    },
    {
      "cell_type": "markdown",
      "metadata": {
        "id": "X12JOY2hzGZM"
      },
      "source": [
        "\n",
        "\n",
        "\n",
        "\n",
        "# Using _timer3_ to flash an LED every 0.5 seconds\n",
        "\n",
        "In this exercise we are going to set up and use the peripheral Timer 3.  Once we have set it up, we can use the timer to create or manage frequent background tasks.  We might use a Timer to regularly check a sensor, drive motors, keep track of time, or other time-precise task.  You should recognise the following illustration from the accompanying lecture:\n",
        "\n",
        "<img src=\"https://github.com/paulodowd/EMATM0054_53/blob/main/Images/Timer3_and_CPU.png?raw=true\"/>\n",
        "\n",
        "You might be asking, 'Why Timer 3?'.  The reasoning is that Timer 0 is used by the Arduino software to create _millis()_ functionality, and Timer 1 is used by the Arduino software to control _Servo Motors_ (we won't use these, but they are very useful, so we'll stay away from this timer), and Timer 4 is used to drive the buzzer - so we don't want to use either of these.  A bit more info is available <a href=\"https://www.pololu.com/docs/0J69/all#3.10\">here</a>\n",
        "\n",
        "Timer 3 is interesting because it can store 16 bit numbers, which means it can count up relatively high.  By counting high, we can configure it create very infrequent interrupts - so slow, in fact, that we can blink an LED slow enough to see it.  We are going to explore and understand how in this exercise.  \n",
        "\n",
        "There are two parts to using and setting up a Timer:\n",
        "- Write the **Interrupt Service Routine (ISR)**: the code which is called when the Timer flags an interrupt.\n",
        "- Write the **Timer setup**: code to configure it to run at a time interval.\n",
        "\n",
        "We will use Timer3 to blink an LED every 0.5 seconds.\n",
        "\n"
      ]
    },
    {
      "cell_type": "markdown",
      "metadata": {
        "id": "YwPhjIsl0C3p"
      },
      "source": [
        "<hr><br><br><br><br>"
      ]
    },
    {
      "cell_type": "markdown",
      "metadata": {
        "id": "PK4Z2NOHzGZM"
      },
      "source": [
        "### A look at just the Interrupt Service Routine (ISR)\n",
        "\n",
        "The following is a simple ISR.  It looks similar to a normal function block of code, although with a strange syntax:\n",
        "\n",
        "```c\n",
        "// Global variable to remember the\n",
        "// on/off state of the LED.  \n",
        "volatile boolean DEBUG_LED_STATE = false;\n",
        "\n",
        "// The ISR routine.\n",
        "// The name TIMER3_COMPA_vect is a special flag to the\n",
        "// compiler.  It automatically associates with Timer3 in\n",
        "// CTC mode.\n",
        "ISR( TIMER3_COMPA_vect ) {\n",
        "\n",
        "  // Invert LED state.\n",
        "  DEBUG_LED_STATE = !DEBUG_LED_STATE;\n",
        "\n",
        "  // Enable/disable LED\n",
        "  digitalWrite(13, DEBUG_LED_STATE);\n",
        "\n",
        "}\n",
        "```"
      ]
    },
    {
      "cell_type": "markdown",
      "metadata": {
        "id": "vQRtLHbezGZN"
      },
      "source": [
        "The above code is our _Interrupt Service Routine (ISR)_.  The ISR will get called automatically by _timer3_.  We have written this ISR to be very simple.  All it does it:\n",
        "\n",
        "- The code changes the stored state of our LED in the variable *DEBUG_LED_STATE* .  \n",
        "- The code then sets the LED pin 13 using _digitalWrite()_.\n",
        "\n",
        "Importantly, the code uses a global variable, *DEBUG_LED_STATE* which has the keyword **volatile** before it.  **volatile** tells the compiler that it is likely the value of *DEBUG_LED_STATE* will change unexpectedly.  Using a Timer means that the compiler cannot predict when a variable will change.  Ordinarily, compilers attempt to optimise memory usage with some clever tricks.  Timer3 ISR will be changing the variable *DEBUG_LED_STATE* outside of the main sequence of the _loop()_ code, so we have to use **volatile** to prevent errors.  You can find out more about the volatile keyword <a href=\"https://www.arduino.cc/reference/en/language/variables/variable-scope--qualifiers/volatile/\">here</a>.\n",
        "\n",
        "\n",
        "These are some general rules about writing *ISR*'s:\n",
        "- __It is important to note__: that the length of your ISR can badly effect the behaviour of your microcontroller, and create errors which are very difficult to debug.  Because an ISR happens in the background, it breaks ordinary sequential nature of your loop() code.\n",
        "\n",
        "\n",
        "- __ISR are sensitive to time:__ It takes time for your microcontroller to actually execute a line of code.  Therefore, if your ISR has many lines of code, it is possible that your ISR will take longer to execute than the frequency that your timer is supposed to raise an interrupt flag.  On some microcontrollers, it is possible for your ISR to be interrupted by itself (a second copy of the ISR begins running, and then a third, forth, etc, until your microcontroller crashes)!  On this microcontroller, the interrupt flag is disabled while inside the ISR, so your ISR will effectively stop the timers clock, and you'll have lost your time-critical precision.  \n",
        "\n",
        "\n",
        "- __What does this mean?__  In either case, it means your timer will no longer be working on time, which makes it useless.  \n",
        "\n",
        "\n",
        "- __As a general rule__ always keep your ISR as short and as simple as possible.  "
      ]
    },
    {
      "cell_type": "markdown",
      "metadata": {
        "id": "zGvp8qLT0HNx"
      },
      "source": [
        "<hr><br><br><br><br>"
      ]
    },
    {
      "cell_type": "markdown",
      "metadata": {
        "id": "-VK_0xEHzGZO"
      },
      "source": [
        "## Setting Up Timer3\n",
        "\n",
        "We have written our Interrupt Service Routine, above, so now we must write some code to set up Timer 3.  We need to tell the microcontroller how often we want the ISR to be run.  It is good practice to encapsulate the setup code into a function, and we will call this **setupTimer3()**.\n",
        "\n",
        "If you have worked with high-level software, for example Java, it might seem like it should be as simple as telling the timer to be any frequency we like.  However, the speed of a micro-controller Timer is linked to the central clock, which is the 16Mhz clock of the 3Pi+ microcontroller. For a lot of applications this is too fast (16 million times a second!).  The electronics of the Timer peripheral can only roughly divide the 16Mhz clock down, which is imprecise.  Therefore, a second parameter, a value for the timer to count up to, provides a finer resolution.  \n",
        "\n",
        "A timer has these two parts of set up because it allows it to be very flexible.  If we divide down the clock speed of the timer, we can **coarsely** make the interrupt very fast or very slow.  By changing the value it counts up to, we can **finely** select the exact frequency.  \n",
        "\n",
        "You can imagine a Timer working in this way like waiting for a bath to fill up with water.  When the bath overflows, we run a piece of code (the ISR) and reset the bath back to empty to start again.  With this analogy, there are two main parameters we can change:\n",
        "- how fast water flows (divided clock frequency).\n",
        "- how big the bath tub is (value to count to).\n",
        "\n",
        "We set how fast the water flows as a rough frequency (a division of 16Mhz), and then change the size of the bath to get an exact frequency (the count value).  \n",
        "\n",
        "With micro-controllers, the size of the bath (count value) is usually limited to an 8 bit number (max 256) or 16 bit number (max 65536) - so we cannot simply change the size of the bath (count) in an unlimited way either.  We have to therefore balance the clock-division (rough timing) and count parameters (fine tuning).  \n",
        "\n",
        "As a setup process, we first find a close division of the 16Mhz clock to our desired frequency, then determine a correct count value.\n",
        "\n",
        "As an exercise, we want our timer3 to raise an interrupt every 0.5 seconds, which is every 500ms.  This is also known as 2 Hertz (2 times a second).  Note how exceptionally slow 2Hz is compared to 16Mhz!  We will therefore have to divide the 16Mhz clock down - called **prescaling**, and the division is known as the **prescale** value.  \n",
        "\n",
        "To achieve our counting behaviour, we will set the timer into __CTC__ mode, which stands for __Clear Timer__ on __Compare__ Mode.  **CTC** is the mode of operation where the timer will count up and once a limit is reached (the *compare* becomes true), it will run our Interrupt Service Routine (ISR) and then reset itself.\n",
        "\n",
        "Read the following commented code, which will be explained in depth next:\n",
        "\n",
        "\n",
        "\n",
        "\n",
        "\n"
      ]
    },
    {
      "cell_type": "markdown",
      "metadata": {
        "id": "pjyn63IszGZO"
      },
      "source": [
        "```c\n",
        "// Routine to setupt timer3 to run\n",
        "void setupTimer3() {\n",
        "  \n",
        "  // disable global interrupts\n",
        "  cli();          \n",
        "\n",
        "  // Reset timer3 to a blank condition.\n",
        "  // TCCR = Timer/Counter Control Register\n",
        "  TCCR3A = 0;     // set entire TCCR3A register to 0\n",
        "  TCCR3B = 0;     // set entire TCCR3B register to 0\n",
        "\n",
        "  // First, turn on CTC mode.  Timer3 will count up\n",
        "  // and create an interrupt on a match to a value.\n",
        "  // See table 14.4 in manual, it is mode 4.\n",
        "  TCCR3B = TCCR3B | (1 << WGM32);\n",
        "\n",
        "  // For a cpu clock precaler of 256:\n",
        "  // Shift a 1 up to bit CS32 (clock select, timer 3, bit 2)\n",
        "  // Table 14.5 in manual.\n",
        "  TCCR3B = TCCR3B | (1 << CS32);\n",
        "  \n",
        "  \n",
        "  // set compare match register to desired timer count.\n",
        "  // CPU Clock  = 16000000 (16mhz).\n",
        "  // Prescaler  = 256\n",
        "  // Timer freq = 16000000/256 = 62500\n",
        "  // We can think of this as timer3 counting up to 62500 in 1 second.\n",
        "  // compare match value = 62500 / 2 (we desire 2hz).\n",
        "  OCR3A = 31250;\n",
        "  \n",
        "  // enable timer compare interrupt:\n",
        "  TIMSK3 = TIMSK3 | (1 << OCIE3A);\n",
        "\n",
        "  // enable global interrupts:\n",
        "  sei();\n",
        "  \n",
        "}\n",
        "```"
      ]
    },
    {
      "cell_type": "markdown",
      "metadata": {
        "id": "wGiKKMAWzGZP"
      },
      "source": [
        "The above code are all the steps required to setup _timer3_ to activate the ISR every 500ms.  \n",
        "\n",
        "**Yes - it does look very obscure!  We will now explore it.**\n",
        "\n",
        "The most important parts of this routine are the values stored into the locations **TCCR3B** and **OCR3A**.  \n",
        "\n",
        "TCCR3B and OCR3A are known as **_registers_**.  A register is an internal part of a computer which acts like switches to turn other parts of the computer on and off.  To use them, we simply write code to store a number in a similar way to using a variable.  \n",
        "\n",
        "You may notice that no where in the example code are OCR3A, or TIMSK3, or OCIE3A, etc, declared as variables - and yet the compiler will not create an error.  Within the Arduino environment, these capitalised names are **keywords** to the registers.  They are specific references to access the registers as if they were variables you had declared.  As a general rule, the names present in the micro-controller manual will have been used as Arduino keywords.  If in doubt, search for examples on the internet. If you feel more courageous, look into the Arduino environment to find header files (.h).  Unfortunately, this is a piece of knowledge that has little more explanation, and must simply be remembered.  With experience, you'll simply go looking for the source files or help online.\n",
        "\n",
        "Unlike a normal variable, a register will typically utilise the **binary** value stored, where each individual bit is used to indicate **on**(1) or **off**(0) for a specific device or function within the microcontroller. You can think of most registers as a row of switches.  So it is normal to need to write single bits to registers.  Sometimes, we need to write more than 1 bit to different locations, and so we use binary masks and bitwise operators.  We will explore this in more depth in just a moment.  \n",
        "\n",
        "For now, the following two registers set up our timer so that:  \n",
        "\n",
        "- OCR3A stores the value to count up to, using 16 binary bits, in order to determine when to stop the timer and run the ISR.\n",
        "\n",
        "- TCCR3B stores the prescaler value, set by a combination of 3 individual bits, which determines how quickly your timer will be counting up as a division of the CPU clock.\n",
        "\n",
        "Therefore, our setup can be described in two steps as:\n",
        "- __what value to count up to__ (OCR3A)\n",
        "- __how quickly the timer counts__ (TCCR3B)\n",
        "\n",
        "When the Timer3 count reaches the match value, the ISR is run, and timer3 resets its own count to zero.  It will count up toward OCR3A again.\n"
      ]
    },
    {
      "cell_type": "markdown",
      "metadata": {
        "id": "op3fuUoW0VIo"
      },
      "source": [
        "<hr><br><br><br><br>"
      ]
    },
    {
      "cell_type": "markdown",
      "metadata": {
        "id": "MhXiR33NzGZQ"
      },
      "source": [
        "## A closer look at interacting with **registers**\n",
        "\n",
        "In the above example setupTimer3() code, we used:\n",
        "\n",
        "```c\n",
        "  // Reset timer3 to a blank condition.\n",
        "  // TCCR = Timer/Counter Control Register\n",
        "  TCCR3A = 0;     // set entire TCCR3A register to 0\n",
        "  TCCR3B = 0;     // set entire TCCR3B register to 0\n",
        "\n",
        "  // First, turn on CTC mode.  Timer3 will count up\n",
        "  // and create an interrupt on a match to a value.\n",
        "  // See table 14.4 in manual, it is mode 4.\n",
        "  TCCR3B = TCCR3B | (1 << WGM32);\n",
        "```\n",
        "\n",
        "\n",
        "As the comment says, this configures the timer into __CTC__ mode, which stands for __Clear Timer__ on __Compare__ Mode.  We will now look in depth at how this code works.  The following image is a table from the manual which described the possible modes of the timer:\n",
        "\n",
        "\n",
        "<img src=\"https://github.com/paulodowd/EMATM0054_53_23-24/blob/main/Images/timer3_mode_table.png?raw=true\" alt=\"Timer3 modes, page 133\"/>\n",
        "\n",
        "In the above table extract we can see many possible modes for Timer 3.  To use any one of them, WGMn3, WGMn2, WGMn1, and WGMn0 need to be set with either a 0 (off) or 1 (on).  WGM stands for _Waveform Generation Mode_, which is a little cryptic.  However, if we set up a device to repeatedly turn on and off automatically, it will essentially generate a waveform (a common use is to generate a Pulse Width Modulation waveform), hence the name.\n",
        "\n",
        "In our example code we started of by setting all bits of the registers TCCR3A and TCCR3B to 0.  This ensures that any previous set up for the timer is cleared out.  Not doing this can cause some very random behaviours - which are some of the most difficult to find bugs in your code.\n",
        "\n",
        "\n",
        "We can read the table and see that for CTC mode we need to:\n",
        " - set WGMn3 to 0\n",
        " - set WGMn2 to 1 (circled red, above)\n",
        " - set WGMn1 to 0\n",
        " - set WGMn0 to 0.\n",
        "\n",
        "In the key word WGMn3/2/1/0, we will use n = 3, because we are setting up timer3, e.g. WGM**3**0, WGM**3**1, WGM**3**2, WGM**3**3.    \n",
        "\n",
        "Next, we need to know in which **register** the bits WGMn0/1/2/3 are located.  Even though WGMn0/1/2/3 appear as sequential bits in the table for configuration, it does not mean that they will occur sequentially in the actual registers!  In the manual, we can find that WGM33 and WGM32 are located in the register TCCR3B, and WGM31 and WGM30 are located in TCCR3A - and so thats how and why we end up knowing to use TCCR3A and TCCR3B:\n",
        "\n",
        "<pre>\n",
        "<img src=\"https://github.com/paulodowd/EMATM0054_53/blob/main/Images/TCCR3B_register_table.png?raw=true\"/>\n",
        "<br>\n",
        "<img src=\"https://github.com/paulodowd/EMATM0054_53/blob/main/Images/TCCR3A_register_table.png?raw=true\"/>\n",
        "</pre>\n",
        "\n",
        "Note that, WGM32 is located in bit 3 of TCCR3B (counting across right-to-left from 0) of the register.\n",
        "\n",
        "We only need WGM32 set to 1.  We could write this in code as:\n",
        "\n",
        "<pre>\n",
        " &nbsp;<font color=\"#000000\">TCCR3B</font> <font color=\"#434f54\">=</font> <font color=\"#000000\">0b00001000</font><font color=\"#000000\">;</font>\n",
        "</pre>\n",
        "\n",
        "The above code explicitely writes a binary value into the register.  We know it is an explicit binary value because it is indicated by the 0b prefix.  Also notice that in the binary value, only bit 3 (counting across right-to-left starting at 0) is set to 1.\n",
        "\n",
        "However, writing a register in the above way **is very bad practice** (please don't do it this way on an important project!). Why is it bad?\n",
        "- Writing a value in this way sets all the bits simultaneously.  Bits 0-2 are set to 0, bit 3 is set to 1, and bits 4-7 are set to 0.  If we had to use the other bits for configuration, they would all be changed with this one line of code.\n",
        "- If we wanted to run our code on a new microcontroller, there is a good chance the register and the configuration of bits would be different.  Using an explicit binary value will not transfer well to other devices.  Therefore, the whole reason for using these cyptic keywords is to help make your code portable between devices.\n",
        "\n",
        "The better way to write a bit value into a register is to use **bitwise** operators, and to use **register keywords**.  The following line of code is much better practice:\n",
        "\n",
        "<pre>\n",
        " &nbsp;<font color=\"#000000\">TCCR3B</font> <font color=\"#434f54\">=</font> <font color=\"#000000\">TCCR3B</font> <font color=\"#434f54\">|</font> <font color=\"#000000\">(</font><font color=\"#000000\">1</font> <font color=\"#434f54\">&lt;&lt;</font> <font color=\"#000000\">WGM32</font><font color=\"#000000\">)</font><font color=\"#000000\">;</font>\n",
        "</pre>\n",
        "\n",
        "We can read the above line of code in natural language as something like:\n",
        "\n",
        "- `TCCR3B = ` Store into TCCR3B...\n",
        "-  ` TCCR3B |` ...the current value of TCCR3B Logically OR'd with...\n",
        "-  `( 1 << WGM32 )` ...a 1 shifted across to the location of WGM32.\n",
        "\n",
        "Where:\n",
        "- _(1 << WGM32)_ means shift a 1 up to the location of WGM32.\n",
        "- We use the logical OR operation (the | symbol) because it maintains any other values in the register.\n",
        "\n",
        "\n",
        "If you want more information on manipulating 1's and 0's within registers and variables, <a href=\"https://playground.arduino.cc/Code/BitMath\">look up bitwise operations, masking and logical truth tables</a>.  As a rule of thumb, we use OR to mask in a high value, and we use AND to mask in a low value.  You can also use the Arduino <a href=\"https://www.arduino.cc/reference/en/language/functions/bits-and-bytes/bitset/\">bitSet()</a> and <a href=\"https://www.arduino.cc/reference/en/language/functions/bits-and-bytes/bitclear/\">bitClear()</a> functions.  \n",
        "\n",
        "\n",
        "\n",
        "Whilst we have only looked at TCCR3B and WGM32 in detail here, it is the same steps and process for the other registers.  For each of the registers in the code above, you can find more information within the <a href=\"http://ww1.microchip.com/downloads/en/devicedoc/atmel-7766-8-bit-avr-atmega16u4-32u4_datasheet.pdf\">manual</a>.\n",
        "\n",
        "\n"
      ]
    },
    {
      "cell_type": "markdown",
      "metadata": {
        "id": "F7H4jG9e0b4Y"
      },
      "source": [
        "<hr><br><br><br><br>"
      ]
    },
    {
      "cell_type": "markdown",
      "metadata": {
        "id": "lLqknCyjzGZQ"
      },
      "source": [
        "## Setting a Prescaler value\n",
        "\n",
        "Setting the prescale value follows the same process as above, but often you will need to set more than one bit.  Knowing which bits to set is again done by referring to the **prescaler table within the manual**:\n",
        "\n",
        "<img src=\"https://github.com/paulodowd/EMATM0054_53/blob/main/Images/prescale_table.png?raw=true\"/>\n",
        "\n",
        "\n",
        "The above table shows us that for any one of the prescale values, we will need to set **a combination of** the CS32, CS31 and CS30 bit values.  Again, the n in CSn2/1/0 refers to the timer number, in our case 3.  We have to look in the manual to find out which register CSn2/1/0 are located in.  These are all located within TCCR3B (TCCR of timer3  B register) - the table is shown in the prior section, labeled 14.10.4.  Our current code example uses the line:\n",
        "\n",
        "\n",
        "<pre>\n",
        " &nbsp;<font color=\"#000000\">TCCR3B</font> <font color=\"#434f54\">=</font> <font color=\"#000000\">TCCR3B</font> <font color=\"#434f54\">|</font> <font color=\"#000000\">(</font><font color=\"#000000\">1</font> <font color=\"#434f54\">&lt;&lt;</font> <font color=\"#000000\">CS32</font><font color=\"#000000\">)</font><font color=\"#000000\">;</font>\n",
        "</pre>\n",
        "\n",
        "From the table we can see that placing a value of 1 into bit CS32 sets the prescale at 256.  \n",
        "\n",
        "If we wanted a prescale value of 1024, we would instead use:\n",
        "\n",
        "<pre>\n",
        "&nbsp;<font color=\"#000000\">TCCR3B</font> <font color=\"#434f54\">=</font><font color=\"#000000\"> TCCR3B</font> <font color=\"#434f54\">|</font> <font color=\"#000000\">(</font><font color=\"#000000\">1</font> <font color=\"#434f54\">&lt;&lt;</font> <font color=\"#000000\">CS30</font><font color=\"#000000\">)</font> <font color=\"#434f54\">|</font> <font color=\"#000000\">(</font><font color=\"#000000\">1</font> <font color=\"#434f54\">&lt;&lt;</font> <font color=\"#000000\">CS32</font><font color=\"#000000\">)</font><font color=\"#000000\">;</font>\n",
        "</pre>\n",
        "\n",
        "Hopefully, you can understand that writing...\n",
        "\n",
        "<pre>\n",
        "&nbsp;<font color=\"#000000\">TCCR3B</font> <font color=\"#434f54\">=</font><font color=\"#000000\"> 1024</font><font color=\"#000000\">;</font>\n",
        "</pre>\n",
        "\n",
        "... would **not** set the prescaler to a prescale value of 1024, but would set the register bits to the binary representation of 1024."
      ]
    },
    {
      "cell_type": "markdown",
      "metadata": {
        "id": "fHHgpEaezGZR"
      },
      "source": [
        "<br><br><br><br>"
      ]
    },
    {
      "cell_type": "markdown",
      "metadata": {
        "id": "X9X-QsuIzGZR"
      },
      "source": [
        "# Timer3 Code Template\n",
        "\n",
        "We are now ready to look at a complete code example using Timer 3!  \n",
        "\n",
        "Type out the following code to an Arduino sketch, and it will blink the onboard LED at 0.5 second intervals."
      ]
    },
    {
      "cell_type": "markdown",
      "metadata": {
        "id": "WyfN-5WDzGZR"
      },
      "source": [
        "```c\n",
        "// Global variable to remember the\n",
        "// on/off state of the LED.  \n",
        "volatile boolean DEBUG_LED_STATE = false;\n",
        "\n",
        "\n",
        "// Remember: Setup only runs once when the arduino is powered up.\n",
        "void setup() {\n",
        "  \n",
        "  // Enable pin 13 LED for debugging\n",
        "  pinMode(13,OUTPUT );\n",
        "  digitalWrite( 13, DEBUG_LED_STATE );\n",
        "  \n",
        "  // Start Serial monitor and print \"reset\"\n",
        "  // so we know if the board is reseting\n",
        "  // unexpectedly.\n",
        "  Serial.begin(9600);\n",
        "  delay(1500);\n",
        "  Serial.println(\"***RESET***\");\n",
        "\n",
        "  // Setup our timer3\n",
        "  setupTimer3();\n",
        "}\n",
        "\n",
        "\n",
        "// Remember: loop is called again and again.\n",
        "void loop() {\n",
        "\n",
        "  // Nothing to do here.\n",
        "  delay(100);\n",
        "}\n",
        "\n",
        "\n",
        "// Routine to setupt timer3 to run\n",
        "void setupTimer3() {\n",
        "  \n",
        "  // disable global interrupts\n",
        "  cli();          \n",
        "\n",
        "  // Reset timer3 to a blank condition.\n",
        "  // TCCR = Timer/Counter Control Register\n",
        "  TCCR3A = 0;     // set entire TCCR3A register to 0\n",
        "  TCCR3B = 0;     // set entire TCCR3B register to 0\n",
        "\n",
        "  // First, turn on CTC mode.  Timer3 will count up\n",
        "  // and create an interrupt on a match to a value.\n",
        "  // See table 14.4 in manual, it is mode 4.\n",
        "  TCCR3B = TCCR3B | (1 << WGM32);\n",
        "\n",
        "  // For a cpu clock precaler of 256:\n",
        "  // Shift a 1 up to bit CS32 (clock select, timer 3, bit 2)\n",
        "  // Table 14.5 in manual.\n",
        "  TCCR3B = TCCR3B | (1 << CS32);\n",
        "  \n",
        "  \n",
        "  // set compare match register to desired timer count.\n",
        "  // CPU Clock  = 16000000 (16mhz).\n",
        "  // Prescaler  = 256\n",
        "  // Timer freq = 16000000/256 = 62500\n",
        "  // We can think of this as timer3 counting up to 62500 in 1 second.\n",
        "  // compare match value = 62500 / 2 (we desire 2hz).\n",
        "  OCR3A = 31250;\n",
        "  \n",
        "  // enable timer compare interrupt:\n",
        "  TIMSK3 = TIMSK3 | (1 << OCIE3A);\n",
        "\n",
        "  // enable global interrupts:\n",
        "  sei();\n",
        "  \n",
        "}\n",
        "\n",
        "// The ISR routine.\n",
        "// The name TIMER3_COMPA_vect is a special flag to the\n",
        "// compiler.  It automatically associates with Timer3 in\n",
        "// CTC mode.\n",
        "ISR( TIMER3_COMPA_vect ) {\n",
        "\n",
        "  // Invert LED state.\n",
        "  DEBUG_LED_STATE = !DEBUG_LED_STATE;\n",
        "\n",
        "  // Enable/disable LED\n",
        "  digitalWrite(13, DEBUG_LED_STATE);\n",
        "\n",
        "}\n",
        "```"
      ]
    },
    {
      "cell_type": "markdown",
      "metadata": {
        "id": "tQxWClnT1Jql"
      },
      "source": [
        "<hr><br><br><br><br>"
      ]
    },
    {
      "cell_type": "markdown",
      "metadata": {
        "id": "J-M4JLz_zGZS"
      },
      "source": [
        "# Exercise 1:\n",
        "1. Adjust the above setupTimer3() routine to get your LED to flash at 4hz, 40hz, 500hz, and 1khz.\n",
        "    - Hint: 25hz is the limit of human vision to see flashing.  You may need to use Serial.print() to evaluation your code.\n",
        "2. The Buzzer is on digital pin 6.  Adapt your code to sound the buzzer instead of flashing the LED.\n",
        "\n",
        "3. Recreate the millis() functionality.  \n",
        "  - Set your Timer3 ISR to run at 1khz.  Add an extra global variable, an unsigned long, to your code and get your ISR to increment the value.  \n",
        "  - Use _Serial.println()_ within loop() to check its progress.  \n",
        "  - Try reseting the value at intervals.  \n",
        "  - Try this with and without the _volatile_ keyword added to your variable - what is the observable consequence?\n",
        "\n",
        "\n"
      ]
    },
    {
      "cell_type": "markdown",
      "metadata": {
        "id": "QG5w84bz1IYu"
      },
      "source": [
        "\n",
        "# Exercise 2:\n",
        "\n",
        "If you have made it this far through the labsheet, you should be able to configure timer3 to be useful to you.  You may wish to look at running a PID updates within the timer3 ISR, or you may wish to regularly update a sensor. Look out for:\n",
        "- Bugs caused by an ISR that takes too long to execute.  If an ISR is taking too long to execute, your normal thread of code will not have many computation cycles to operate before the interrupt is called again.\n",
        "- Bugs caused by non-volatile variable access.  When you read from a global volatile memory, it is possible that the read operate is itself interrupted.  This means the underlying value of the variable can change during a read process.  \n",
        "- An interrupt operating very fast.  Even a very short interrupt, called very frequenty, will leave fewer computation cycles remaining for your main thread of code.\n",
        "- Different interrupts interrupting each other.  When using Timer3, remember that your encoders will also be causing interrupts within the normal operation of your code.  \n"
      ]
    }
  ]
}