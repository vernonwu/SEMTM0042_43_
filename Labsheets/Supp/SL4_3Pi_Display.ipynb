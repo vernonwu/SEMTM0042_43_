{
  "nbformat": 4,
  "nbformat_minor": 0,
  "metadata": {
    "colab": {
      "provenance": [],
      "toc_visible": true,
      "authorship_tag": "ABX9TyNjLrlcb/MWWlR+G4Oz0JNR",
      "include_colab_link": true
    },
    "kernelspec": {
      "name": "python3",
      "display_name": "Python 3"
    },
    "language_info": {
      "name": "python"
    }
  },
  "cells": [
    {
      "cell_type": "markdown",
      "metadata": {
        "id": "view-in-github",
        "colab_type": "text"
      },
      "source": [
        "<a href=\"https://colab.research.google.com/github/paulodowd/EMATM0054_53/blob/main/Labsheets/Supp/SL4_3Pi_Display.ipynb\" target=\"_parent\"><img src=\"https://colab.research.google.com/assets/colab-badge.svg\" alt=\"Open In Colab\"/></a>"
      ]
    },
    {
      "cell_type": "markdown",
      "metadata": {
        "id": "Pgwc9GPCLihn"
      },
      "source": [
        "# Supplementary Labsheet 4: Using the LCD or OLED display.\n",
        "\n",
        "\n",
        "This labsheet provides some guidance on using the LCD or OLED display for the 3Pi+ robot.  You will have a 3Pi+ robot that either has the connector for the LCD display, or the connector for the OLED display.  Apart from this difference in the display, the two types of robot are functionally identical.  The displays are also functionally identical: both display two rows of 8 characters.\n",
        "\n",
        "\n",
        "\n",
        "\n",
        "\n",
        "\n",
        "\n",
        "\n",
        "\n",
        "\n"
      ]
    },
    {
      "cell_type": "markdown",
      "source": [
        "<img src=\"https://raw.githubusercontent.com/paulodowd/EMATM0054_53/main/Images/info.png\" align=\"left\"> Using the display does offer some advantages when debugging your robot.  However, the display also has some **disadvantages**, such as more memory use, and more computational time use, and more battery power use.  The display will also stop the LEDs from being useful for debugging where they will flash as the LCD/OLED is updated."
      ],
      "metadata": {
        "id": "vWDEeQuQdPas"
      }
    },
    {
      "cell_type": "markdown",
      "source": [
        "<img src=\"https://raw.githubusercontent.com/paulodowd/EMATM0054_53/main/Images/info.png\" align=\"left\"> This labsheet is new.  If you find issues, please report them to the Unit Director via email."
      ],
      "metadata": {
        "id": "Y1_3odbUuDUq"
      }
    },
    {
      "cell_type": "markdown",
      "metadata": {
        "id": "6EblFTqyclh3"
      },
      "source": [
        "<hr><br><br><br><br>"
      ]
    },
    {
      "cell_type": "markdown",
      "source": [
        "# Identify: Which robot / display type do I have?\n",
        "\n",
        "Use the graphic below to identify which display type you have.  You can collect a display module from a member of the teaching staff during a lab session.\n",
        "\n",
        "\n"
      ],
      "metadata": {
        "id": "7HN920q-agBn"
      }
    },
    {
      "cell_type": "markdown",
      "source": [
        "<img src=\"https://raw.githubusercontent.com/paulodowd/EMATM0054_53/main/Images/stop.png\" align=\"left\"> **Caution:** Use the below graphic to also check which way the display faces on top of the robot.  Plugging in the display the wrong way may **permanently damage** the robot and/or display.  When  plugging in the display, check the pins line up with the connector socket properly. If you have any doubts, please ask a member of teaching staff."
      ],
      "metadata": {
        "id": "yyypz7Wgc1qM"
      }
    },
    {
      "cell_type": "markdown",
      "source": [
        "<p align=\"center\">\n",
        "<img src=\"https://github.com/paulodowd/EMATM0054_53/blob/main/Images/IdentifyWhichDisplay.png?raw=true\">\n",
        "</p>"
      ],
      "metadata": {
        "id": "TwATEmANcpdm"
      }
    },
    {
      "cell_type": "markdown",
      "source": [
        "<hr><br><br><br><br>"
      ],
      "metadata": {
        "id": "J0U7h746dn6c"
      }
    },
    {
      "cell_type": "markdown",
      "metadata": {
        "id": "krVl33vMUFAt"
      },
      "source": [
        "# OLED: Installing the Library\n",
        "\n",
        "1. Within the Arduino IDE, navigate to `Sketch -> Include Libary -> Manage Libraries...`.\n",
        "\n",
        "<p align=\"center\">\n",
        "<img src=\"https://raw.githubusercontent.com/paulodowd/EMATM0054_53/main/Images/Arduino_ManageLibraries.jpg\">\n",
        "</p>"
      ]
    },
    {
      "cell_type": "markdown",
      "source": [
        "2. Type `PololuOLED` into the search field, as shown below.  Click install on the library entry of the same name.\n",
        "\n",
        "<p align=\"center\">\n",
        "<img src=\"https://raw.githubusercontent.com/paulodowd/EMATM0054_53/main/Images/LibraryPololuOLED.png\">\n",
        "</p>"
      ],
      "metadata": {
        "id": "XdiN5mVde-AD"
      }
    },
    {
      "cell_type": "markdown",
      "metadata": {
        "id": "RGHdKAoCcoFv"
      },
      "source": [
        "<hr><br><br><br><br>"
      ]
    },
    {
      "cell_type": "markdown",
      "source": [
        "# Using the OLED Display\n",
        "\n",
        "The following short code example has the essential parts to use the **OLED display**."
      ],
      "metadata": {
        "id": "66kgcGn9lWgx"
      }
    },
    {
      "cell_type": "markdown",
      "source": [
        "<img src=\"https://raw.githubusercontent.com/paulodowd/EMATM0054_53/main/Images/info.png\" align=\"left\"> The OLED display has **2 rows** of **8 characters**.  You will need to decide how to use these effectively."
      ],
      "metadata": {
        "id": "sHIR967FmD1_"
      }
    },
    {
      "cell_type": "markdown",
      "source": [
        "<img src=\"https://raw.githubusercontent.com/paulodowd/EMATM0054_53/main/Images/info.png\" align=\"left\"> You will need to `enable` and `disable` the USB port before and after using the OLED display commands.  Therefore, you will want to organise your code so that your OLED commands occur in one place together."
      ],
      "metadata": {
        "id": "m-ZIUuAptdFv"
      }
    },
    {
      "cell_type": "markdown",
      "source": [
        "<img src=\"https://raw.githubusercontent.com/paulodowd/EMATM0054_53/main/Images/info.png\" align=\"left\"> You can find more functionality by reviewing the example for the PololuHD44780 library.  Click `File -> Examples -> PololuOLED`.  You will need to match change the pin numbers as per the example below."
      ],
      "metadata": {
        "id": "SWw3jEBtmG-j"
      }
    },
    {
      "cell_type": "markdown",
      "source": [
        "<img src=\"https://raw.githubusercontent.com/paulodowd/EMATM0054_53/main/Images/info.png\" align=\"left\"> **Bug:** There is a known bug.  If you open and then close the Serial Monitor, you will notice that the update of the OLED display becomes slow.  There is a general issue with closing the Serial monitor.  A solution is available in the Trouble Shooting labsheet.  This was not included here to keep the example simple."
      ],
      "metadata": {
        "id": "u9lYdzZlsz3B"
      }
    },
    {
      "cell_type": "markdown",
      "source": [
        "<img src=\"https://raw.githubusercontent.com/paulodowd/EMATM0054_53/main/Images/stop.png\" align=\"left\"> **Caution:** Use the below graphic to also check which way the display faces on top of the robot.  Plugging in the display the wrong way may **permanently damage** the robot and/or display.  When  plugging in the display, check the pins line up with the connector socket properly. If you have any doubts, please ask a member of teaching staff."
      ],
      "metadata": {
        "id": "sMKPBwkPmZU5"
      }
    },
    {
      "cell_type": "markdown",
      "source": [
        "```c\n",
        "#include <PololuOLED.h>\n",
        "\n",
        "\n",
        "// A variable just for test purposes.\n",
        "float count;\n",
        "\n",
        "// The following numbers are essential to\n",
        "// connect to the LCD display on the 3Pi\n",
        "PololuSH1106 display(1, 30, 0, 17, 13);\n",
        "\n",
        "\n",
        "// Two helper functions, disableUSB() and enableUSB().\n",
        "// Adapted from:\n",
        "// https://github.com/pololu/usb-pause-arduino/blob/master/USBPause.h\n",
        "// Accessed 25/09/24.\n",
        "uint8_t savedUDIEN;\n",
        "uint8_t savedUENUM;\n",
        "uint8_t savedUEIENX0;\n",
        "void disableUSB() {\n",
        "  // Disable the general USB interrupt.  This must be done\n",
        "  // first, because the general USB interrupt might change the\n",
        "  // state of the EP0 interrupt, but not the other way around.\n",
        "  savedUDIEN = UDIEN;\n",
        "  UDIEN = 0;\n",
        "\n",
        "  // Select endpoint 0.\n",
        "  savedUENUM = UENUM;\n",
        "  UENUM = 0;\n",
        "\n",
        "  // Disable endpoint 0 interrupts.\n",
        "  savedUEIENX0 = UEIENX;\n",
        "  UEIENX = 0;\n",
        "}\n",
        "void enableUSB() {\n",
        "  // Restore endpoint 0 interrupts.\n",
        "  UENUM = 0;\n",
        "  UEIENX = savedUEIENX0;\n",
        "\n",
        "  // Restore endpoint selection.\n",
        "  UENUM = savedUENUM;\n",
        "\n",
        "  // Restore general device interrupt.\n",
        "  UDIEN = savedUDIEN;\n",
        "}\n",
        "\n",
        "\n",
        "\n",
        "void setup() {\n",
        "\n",
        "  // A delay in setup seems necessary for\n",
        "  // the OLED display to allow the OLED\n",
        "  // initialisation to finish correctly.\n",
        "  delay(1000);\n",
        "\n",
        "  // Start Serial port.\n",
        "  Serial.begin(9600);\n",
        "  \n",
        "  // Initialise the test variable.\n",
        "  count = 0;\n",
        "}\n",
        "\n",
        "\n",
        "\n",
        "void loop() {\n",
        "\n",
        "  // Before you use the display. commands,\n",
        "  // disable the USB connection (serial).\n",
        "  disableUSB();\n",
        "\n",
        "  // This command will clear the OLED\n",
        "  // display.\n",
        "  display.clear();\n",
        "\n",
        "  // This command allows you to move\n",
        "  // to a specific line and character\n",
        "  // position before printing.\n",
        "  // e.g. character 0, line 0\n",
        "  display.gotoXY(0, 0);\n",
        "\n",
        "  // This command can be use to print\n",
        "  // strings.\n",
        "  display.print(\"12345678\");\n",
        "\n",
        "  // Move to next line, start at 0\n",
        "  display.gotoXY(0, 1);\n",
        "\n",
        "  // This command can be used to show\n",
        "  // single characters.  Note the use\n",
        "  // of single quotation '\n",
        "  // This will also move ready to the\n",
        "  // next position\n",
        "  display.print('X');\n",
        "  display.print(':');\n",
        "\n",
        "  // You can also display variable\n",
        "  // values.  This will display a\n",
        "  // float to 3 decimal places.\n",
        "  display.print( count, 3 );\n",
        "\n",
        "  // Increase count so we can see\n",
        "  // the change.\n",
        "  count += 0.001;\n",
        "\n",
        "  // When you are finished using the\n",
        "  // display, enable USB again (Serial)\n",
        "  enableUSB();\n",
        "\n",
        "  // Test Serial\n",
        "  Serial.println( count, 3 );\n",
        "\n",
        "  delay(500);\n",
        "}\n",
        "```"
      ],
      "metadata": {
        "id": "truSSbYkn9r9"
      }
    },
    {
      "cell_type": "markdown",
      "source": [
        "<hr><br><br><br><br>"
      ],
      "metadata": {
        "id": "xKm9CDVPlWTx"
      }
    },
    {
      "cell_type": "markdown",
      "source": [
        "# LCD: Installing the Library\n",
        "\n",
        "1. Within the Arduino IDE, navigate to `Sketch -> Include Libary -> Manage Libraries...`.\n",
        "\n",
        "<p align=\"center\">\n",
        "<img src=\"https://raw.githubusercontent.com/paulodowd/EMATM0054_53/main/Images/Arduino_ManageLibraries.jpg\">\n",
        "</p>"
      ],
      "metadata": {
        "id": "eu1zfwTIeXz0"
      }
    },
    {
      "cell_type": "markdown",
      "source": [
        "2. Type `PololuHD44780` into the search field, as shown below.  Click install on the library entry of the same name.\n",
        "\n",
        "<p align=\"center\">\n",
        "<img src=\"https://raw.githubusercontent.com/paulodowd/EMATM0054_53/main/Images/LibraryLCD.png\">\n",
        "</p>"
      ],
      "metadata": {
        "id": "g-wd_BL1fS9L"
      }
    },
    {
      "cell_type": "markdown",
      "source": [
        "<hr><br><br><br><br>"
      ],
      "metadata": {
        "id": "5x2-BKGBimVy"
      }
    },
    {
      "cell_type": "markdown",
      "source": [
        "# Using the LCD Display\n",
        "\n",
        "The following short code example has the essential parts to use the **LCD display**.\n",
        "\n",
        "\n",
        "\n"
      ],
      "metadata": {
        "id": "2J3oO4D2imAb"
      }
    },
    {
      "cell_type": "markdown",
      "source": [
        "<img src=\"https://raw.githubusercontent.com/paulodowd/EMATM0054_53/main/Images/info.png\" align=\"left\"> The LCD display has **2 rows** of **8 characters**.  You will need to decide how to use these effectively."
      ],
      "metadata": {
        "id": "HC9U5yxkivVS"
      }
    },
    {
      "cell_type": "markdown",
      "source": [
        "<img src=\"https://raw.githubusercontent.com/paulodowd/EMATM0054_53/main/Images/info.png\" align=\"left\"> You will need to `enable` and `disable` the USB port before and after using the LCD display commands.  Therefore, you will want to organise your code so that your LCD commands occur in one place together."
      ],
      "metadata": {
        "id": "m6ZO9oCNtpEf"
      }
    },
    {
      "cell_type": "markdown",
      "source": [
        "<img src=\"https://raw.githubusercontent.com/paulodowd/EMATM0054_53/main/Images/info.png\" align=\"left\"> You can find more functionality by reviewing the example for the PololuHD44780 library.  Click `File -> Examples -> PololuHD44780 -> Test`.  You will need to match change the pin numbers as per the example below."
      ],
      "metadata": {
        "id": "GJXFN1ltk7bp"
      }
    },
    {
      "cell_type": "markdown",
      "source": [
        "<img src=\"https://raw.githubusercontent.com/paulodowd/EMATM0054_53/main/Images/info.png\" align=\"left\"> **Bug:** There is a known bug.  If you open and then close the Serial Monitor, you will notice that the update of the LCD display becomes slow.  There is a general issue with closing the Serial monitor.  A solution is available in the Trouble Shooting labsheet.  This was not included here to keep the example simple."
      ],
      "metadata": {
        "id": "D4SAiOqIsiDI"
      }
    },
    {
      "cell_type": "markdown",
      "source": [
        "<img src=\"https://raw.githubusercontent.com/paulodowd/EMATM0054_53/main/Images/stop.png\" align=\"left\"> **Caution:** Use the below graphic to also check which way the display faces on top of the robot.  Plugging in the display the wrong way may **permanently damage** the robot and/or display.  When  plugging in the display, check the pins line up with the connector socket properly. If you have any doubts, please ask a member of teaching staff."
      ],
      "metadata": {
        "id": "1xzPuniImakB"
      }
    },
    {
      "cell_type": "markdown",
      "source": [
        "```c\n",
        "\n",
        "#include <PololuHD44780.h>\n",
        "\n",
        "\n",
        "// A variable just for test purposes.\n",
        "float count;\n",
        "\n",
        "\n",
        "// The following numbers are essential to\n",
        "// connect to the LCD display.\n",
        "PololuHD44780 lcd(0, 1, 14, 17, 13, 30);\n",
        "\n",
        "\n",
        "\n",
        "// Two helper functions, disableUSB() and enableUSB().\n",
        "// Adapted from:\n",
        "// https://github.com/pololu/usb-pause-arduino/blob/master/USBPause.h\n",
        "// Accessed 25/09/24.\n",
        "uint8_t savedUDIEN;\n",
        "uint8_t savedUENUM;\n",
        "uint8_t savedUEIENX0;\n",
        "void disableUSB() {\n",
        "  // Disable the general USB interrupt.  This must be done\n",
        "  // first, because the general USB interrupt might change the\n",
        "  // state of the EP0 interrupt, but not the other way around.\n",
        "  savedUDIEN = UDIEN;\n",
        "  UDIEN = 0;\n",
        "\n",
        "  // Select endpoint 0.\n",
        "  savedUENUM = UENUM;\n",
        "  UENUM = 0;\n",
        "\n",
        "  // Disable endpoint 0 interrupts.\n",
        "  savedUEIENX0 = UEIENX;\n",
        "  UEIENX = 0;\n",
        "}\n",
        "void enableUSB() {\n",
        "  // Restore endpoint 0 interrupts.\n",
        "  UENUM = 0;\n",
        "  UEIENX = savedUEIENX0;\n",
        "\n",
        "  // Restore endpoint selection.\n",
        "  UENUM = savedUENUM;\n",
        "\n",
        "  // Restore general device interrupt.\n",
        "  UDIEN = savedUDIEN;\n",
        "}\n",
        "\n",
        "void setup() {\n",
        "\n",
        "  // Start serial port\n",
        "  Serial.begin(9600);\n",
        "\n",
        "  // Initialise our test variable.\n",
        "  count = 0;\n",
        "}\n",
        "\n",
        "void loop() {\n",
        "\n",
        "  // Before you use the lcd. commands,\n",
        "  // disable the USB connection (serial).\n",
        "  disableUSB();\n",
        "\n",
        "  // This command will clear the LCD\n",
        "  // display.\n",
        "  lcd.clear();\n",
        "\n",
        "  // This command can be used to show\n",
        "  // single characters.  Note the use\n",
        "  // of single quotation '\n",
        "  // This will also move ready to the\n",
        "  // next position\n",
        "  lcd.print('X');\n",
        "  lcd.print(':');\n",
        "  \n",
        "  // You can also display variable\n",
        "  // values.  This will display a\n",
        "  // float to 3 decimal places.\n",
        "  lcd.print(count,3);\n",
        "\n",
        "  // Increase count so we can see\n",
        "  // the change.\n",
        "  count += 0.001;\n",
        "   \n",
        "  // This command allows you to move\n",
        "  // to a specific line and character\n",
        "  // position before printing.\n",
        "  // e.g. character 0, line 1\n",
        "  lcd.gotoXY(0,1);\n",
        "\n",
        "  //  You can also print strings\n",
        "  lcd.write(\"12345678\");\n",
        "\n",
        "  // When you are finished using the\n",
        "  // lcd, enable USB again (Serial)\n",
        "  enableUSB();\n",
        "\n",
        "\n",
        "  // Test serial\n",
        "  Serial.println( count, 3 );\n",
        "  \n",
        "  delay(500);\n",
        "}\n",
        "```"
      ],
      "metadata": {
        "id": "SbX91XpOi5YC"
      }
    },
    {
      "cell_type": "markdown",
      "source": [
        "<hr><br><br><br><br>"
      ],
      "metadata": {
        "id": "fKIp-Kc9eavt"
      }
    }
  ]
}