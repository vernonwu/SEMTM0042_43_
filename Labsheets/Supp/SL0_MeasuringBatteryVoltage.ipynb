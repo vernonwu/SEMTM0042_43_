{
  "nbformat": 4,
  "nbformat_minor": 0,
  "metadata": {
    "kernelspec": {
      "display_name": "Python 3",
      "language": "python",
      "name": "python3"
    },
    "language_info": {
      "codemirror_mode": {
        "name": "ipython",
        "version": 3
      },
      "file_extension": ".py",
      "mimetype": "text/x-python",
      "name": "python",
      "nbconvert_exporter": "python",
      "pygments_lexer": "ipython3",
      "version": "3.8.2"
    },
    "colab": {
      "name": "SL0_MeasuringBatteryVoltage.ipynb",
      "provenance": [],
      "toc_visible": true
    }
  },
  "cells": [
    {
      "cell_type": "markdown",
      "metadata": {
        "id": "08_O4nvaLV5g"
      },
      "source": [
        "# Supplementary Labsheet 0: Measuring Battery Voltage\n",
        "\n",
        "This suppplementary labshoot investigates measuring the battery voltage of your robot whilst it is operating.  This labsheet is quite straight-forward and will introduce you to reading analog voltages.  Because this is a supplementary labsheet, you are expected to use your own initiative and critical thinking to solve problems and conduct investigations.\n",
        "\n",
        "Measuing the battery voltage of the robot might be useful to:\n",
        "- detect and alert you to a critically low battery (which would alter the performance of your robot)\n",
        "- to adjust system parameters depending on your measured battery voltage.\n",
        "- to develop autonomous optimisations of robot behaviour (e.g. optimised usage of battery whilst moving).\n",
        "- an alternative proprioceptive sensor input relating the robot's interaction with the external environment.\n",
        "- You can review guidance from the manufacturer Pololu on how the batteries may effect the motor performance <a href=\"https://www.pololu.com/docs/0J83/5.3\">here</a>.\n",
        "\n",
        "In this labsheet, we investigate some electronic schematics to understand how we can measure the battery voltage.\n",
        "\n"
      ]
    },
    {
      "cell_type": "markdown",
      "metadata": {
        "id": "wX6lHwfLLV5h"
      },
      "source": [
        "<br><br><br><br>"
      ]
    },
    {
      "cell_type": "markdown",
      "metadata": {
        "id": "ieXM2PTjLV5i"
      },
      "source": [
        "# A Look at Schematics\n",
        "\n",
        "Pololu offer the full schematic for the 3Pi+ for free from their website, <a href=\"https://www.pololu.com/file/0J1790/3pi-plus-32u4-control-board-schematic.pdf\">here</a>.  We will look at the relevant aspects for measuring the battery voltage.\n",
        "\n",
        "\n",
        "A general description of the power sub-system for the 3Pi+ is provided in the documentation, <a href=\"https://www.pololu.com/docs/0J83/5.7\">here</a>.  This description tells us:\n",
        "- **VBAT**: is a pin connected to the batteries, which may be between 4.8volts to 6volts, depending on the type of AA-cell batteries installed.\n",
        "- **VSW**: is the battery voltage (VBAT), after it has been through a power switching circuit (on/off) and a reverse-protection circuit (to attempt to prevent damage if the batteries are installed incorrectly).\n",
        "- **VM**: is the regulated voltage supplied to the motors at 8v, which occurs after VSW.\n",
        "- That VSW can be monitored through the Arduino pin **A1**.  \n",
        "\n",
        "From the lectures, you should remember that an <a href=\"https://en.wikipedia.org/wiki/Analog-to-digital_converter\">Analog-to-Digital Converter (ADC)</a> makes a comparison between a voltage present at a pin and a voltage reference.  This then presents two interesting questions concerning measuring our robot battery voltage:\n",
        "\n",
        "\n",
        "1. If the robot batteries can run out (VSW voltage will drop over time), how can the robot make a comparison to a voltage reference on the same circuit?  (e.g., won't the analog-to-digital converter reference voltage change as the batteries change?)\n",
        "\n",
        "2. If the robot microcontroller operates on 5volts, how can it make a comparative measurement to a larger battery voltage (e.g. 6 volts)?\n",
        "\n",
        "\n",
        "When we look through schematics, any labels made to pins will be consistent throughout the document.  Therefore, if you see a label such as **VCCREG** on one page, this will be electronically connected to another reference of **VCCREG** on another page.  We can therefore follow the labels through the circuitry to gain an understanding of the operation of the circuit.\n",
        "\n",
        "\n"
      ]
    },
    {
      "cell_type": "markdown",
      "metadata": {
        "id": "xVxlFbmKLV5i"
      },
      "source": [
        "# Voltage Reference\n",
        "\n",
        "When working with microcontrollers it is possible to provide an external voltage as a reference for the ADC as an alternative to the \"internal\" system voltage of 5v (in this case).\n",
        "\n",
        "<p align=\"center\">\n",
        "<img src=\"https://github.com/paulodowd/EMATM0054_53/blob/main/Images/3PI_aref.png?raw=true\"/>\n",
        "</p>\n",
        "\n",
        "In the above schematic, this large yellow block is in fact our 32u4 microcontroller which we have been using.  You can observe in small blue writing the label for the yellow block `ATmega32U4`.  We can see the many pins available of the microcontroller.  We can use the labels in red writing to work out through the rest of the schematic what connections are made across different devices.  \n",
        "\n",
        "We can also observe some standard connections we would expect to see in other microcontroller systems.  These are a connection a voltage supply for logic (here, 5 volts labelled `5V`, going into VCC on the yellow block), and and `0v` or `ground`, which is indicated by the 3 horizontal lines in a triangle shape.  \n",
        "\n",
        "Because the 5volts supplied to the 32u4 is going to be used to determine all computational logic (e.g., is this high or low, 0 or 1?), the 5volt supply is regulated to be as consistent as possible.  If the 5volts were unstable, our logic and therefore computation might become unreliable.  This means that the logic supply voltage 5v it is not a direct connection from our batteries.    As a matter of interest, let's investigate how the voltage is supplied to the 32u4:\n",
        "\n",
        "<p align=\"center\">\n",
        "<img src=\"https://github.com/paulodowd/EMATM0054_53/blob/main/Images/3PI_power_reg.png?raw=true\"/>\n",
        "</p>\n",
        "\n",
        "In the above circuit we can see two yellow blocks.  These have been taken from page 4 of the schematics.  These are two more integrated circuits (electronic circuits made on a wafer of silicon, usually encapsulated in black plastic), which look like black squares with tiny writing on them on the real circuit board of your 3Pi+.  \n",
        "\n",
        "The top yellow block in the circuit diagram above is not labelled with a part number - which is a little unusual.  We can probably find the chip and it's part number on the real circuit board with a little investigation.  This block is performing power regulation to 5volts.  This means that, as the input voltage `VSW` varies, this chip will attempt to produce a stable 5V output.  This chip, is likely to be a high-frequency <a href=\"https://en.wikipedia.org/wiki/Switched-mode_power_supply\">switch-mode converter</a>.  \n",
        "\n",
        "A switch-mode converter is an amazing innovation that allows for the regulation of voltage at extremely high efficiency - up to 95% efficiency in some cases (e.g., only 5% of energy is lost).  Prior to switch-mode, linear converters would step-down or step-up voltage (shift the voltage level) but usually produce a lot of heat as wasted energy. To make this worse, you'd often need a fan to keep the electronics cool (using more energy, shortening battery life!).  For any type of voltage transformer, we can apply a general understanding that voltage and current can be exchanged, e.g., less current for more voltage, and vice-versa.\n",
        "\n",
        "We can observe that `VSW` is provided as in input to the block (on the left hand side, into the pin labelled 6, VBAT).  `VSW` is the supply from the battery after the power (on/off) switch. Presumably the label `VSW` is **V**oltage after **Sw**itch.  `R5V` is produced on the right hand side, out of the pin labelled 2, VOUT.  Here presumably the label is **R**egulated **5V**.  However, `R5V` is not fed directly to our 32u4 microcontroller.  \n",
        "\n",
        "In the bottom yellow block, labelled in blue `TPS2113A`, will select either the 5volts provided from a USB cable connection (when you have the 3Pi+ plugged into your computer), or the `R5V` supply previously discussed.  This allows the 32u4 to be powered from either source, and for you to plug-and-unplug the cable.  \n",
        "\n",
        "From this second yellow block, we see on the right the output `5V`, which we can trace back to the connections we saw to the ATmega32U4 block in the schematic.  More information on this regulation process can be found <a href=\"https://www.pololu.com/docs/0J83/all#5.7\"> in the documentation</a>.\n",
        "\n",
        "Because we are interested in measuring the battery voltage, it is interesting to locate the analog reference (**AREF**) on the schematic.  When we instruct the 32u4 to make an `analogRead()`, it must make a measurement relative to a known voltage reference source.  \n",
        "\n",
        "The `AREF` is a pin on the 32u4 (the first large yellow block we reviewed.  We can see that AREF is connected through a capacitor to ground (0 volts).  This tells us that the analog reference pin is not connected to an external reference source by default.  \n",
        "\n",
        "In other circumstances, it might be useful to supply a different reference voltage to the ADC, so that the resolution of the ADC maps (discretises) across a different voltage range.  For instance, perhaps it would be useful to have the 10-bit ADC representation across just 1volt range.\n",
        "\n",
        "Whilst this `AREF` pin exists, it is normal for the `AREF` source to be configured in software to work from the internal voltage reference source.  Therefore, we can expect AREF to be the 5V supplied to the 3Pi+ microcontroller, labelled as **VCC** receiving **5V**.  On some microcontroller systems, this might be 3.3volts, or another voltage - we should try not to make any assumptions.\n",
        "\n",
        "Having followed this circuit schematic through, we can summarise that the `AREF` for the ADC is taking an internal regulated 5volts as a reference source.  This means that, even as the battery voltage changes, a measurement can be taken against a consistent reference source of 5volts.  \n",
        "\n"
      ]
    },
    {
      "cell_type": "markdown",
      "metadata": {
        "id": "Cw4Ruy6cLV5j"
      },
      "source": [
        "# Measuring a larger voltage:\n",
        "\n",
        "From our previous discussion, we know that our `analogRead()` will make a measurement of voltage made against a 5volt reference.  However, we can expect four AA cell batteries to have a larger voltage of something like 6volts.  \n",
        "\n",
        "If we search the schematic for the label **A1** (where we will measure the battery voltage **VSW**), we can find the following circuit diagram:\n",
        "\n",
        "<p align=\"center\">\n",
        "<img src=\"https://github.com/paulodowd/EMATM0054_53/blob/main/Images/batt_pd.png?raw=true\"/>\n",
        "</p>\n",
        "\n",
        "You may recognise the above configuration of resistors as a <a href=\"https://learn.sparkfun.com/tutorials/voltage-dividers/all\">potential divider</a>.  \n",
        "\n",
        "From our previous discussion, following the path of voltage regulation, we also know that VSW is prior to any regulation.  Therefore, we can expect to observe in our measurements of the pin `A1` any induced noise or ripple to the power supplied from the batteries.  \n",
        "\n",
        "From the above circuit diagram, we can read that the voltage present at `VSW` is divided by the 20k and 10k resistors in series, with A1 reading from the junction (labelled as **BATLEV**).  \n",
        "\n",
        "The choice of 20k and 10k resistors makes the potential divider quite convenient - it essentially divides the voltage at VSW into thirds, presenting 1/3 of the level of VSW to A1.  \n",
        "\n",
        "This is a simple way to bring a larger voltage down to be measured.  However, it should be noted that it is not necessarily safe.  A particularly large voltage presented at VSW could be divided down to produce a voltage larger than 5V for our 32u4 microcontroller - potentially causing damage.  With this resistor configuration, up to 15volts could be divided down to a safe value for measurement (one third of 15v is 5v).  \n",
        "\n",
        "This \"dividing down to 1/3 of VSW\" will also need to be remembered when we want to calculate the voltage measured at the pin A1.  With four AA cell batteries, we can expect `VSW` to be a voltage around 6volts.  Therefore, if our four AA cells had an ideal voltage of 6 volts, we would measure this as 2volts (one third) during an `analogRead()`.  \n",
        "\n",
        "To understand why a third of VSW is presented at A1, we can look at the equation for a potential divider:\n",
        "\n",
        "<p align=\"center\">\n",
        "<img src=\"https://cdn.sparkfun.com/assets/e/7/6/3/c/511968d9ce395f7c54000000.png\"/>\n",
        "</p>\n",
        "\n",
        "If we substitute our circuit labels into the equation above, we achieve:\n",
        "\n",
        "$$M_{adc} = VSW \\times \\frac{R5}{R4+R5}$$\n",
        "\n",
        "Where, $M_{adc}$ is the digital measurement taken by our ADC through `analogRead(A1)`, `VSW` is the unknown battery voltage (which we wish to discover), and `R5`, `R4` are the resistors in the above schematic labelled in small blue writing.\n",
        "\n",
        "We can then substitute our known values:\n",
        "\n",
        "$$M_{adc} = VSW \\times \\frac{10000}{20000+10000}$$\n",
        "\n",
        "Which simplifies to:\n",
        "\n",
        "$$M_{adc} = VSW \\times 0.33$$\n",
        "\n",
        "Here, it is important to note that $M_{adc}$ is not a voltage, but a binary representation of how the voltage at pin `A1` corresponds to the reference source `AREF`.  To proceed, we must convert the digital measurment $M_{adc}$ to volts.\n",
        "\n"
      ]
    },
    {
      "cell_type": "markdown",
      "metadata": {
        "id": "Lsv68XTZLV5k"
      },
      "source": [
        "<br><br><br><br>"
      ]
    },
    {
      "cell_type": "markdown",
      "metadata": {
        "id": "9qrUrTR8LV5k"
      },
      "source": [
        "<br><br><br><br>"
      ]
    },
    {
      "cell_type": "markdown",
      "metadata": {
        "id": "STPP5SgFLV5k"
      },
      "source": [
        "## Exercise 1\n",
        "\n",
        "From the <a href=\"http://ww1.microchip.com/downloads/en/DeviceDoc/Atmel-7766-8-bit-AVR-ATmega16U4-32U4_Summary.pdf\">datasheet</a> for the 32u4 microcontroller, we know that the ADC has a 10-bit representation of a continuous analog voltage.  Therefore, when we receive a number from the analogRead(), it is not in the units of volts.   Our measurement $M_{adc}$ is a binary representation of how the voltage at pin `A1` corresponds to the reference source `AREF`.\n",
        "\n",
        "We know that the `AREF` is using a 5volt reference for the ADC unit by default. It is possible to convert that 10-bit value into units of voltage ($V_{adc}$):\n",
        "\n",
        "\n",
        "$$V_{adc} = M_{adc} \\times \\frac{AREF}{2^{10}}$$\n",
        "\n",
        "In the above\n",
        "- `AREF` is the total voltage used as a reference for `analogRead()`.  \n",
        "- $2^{10}$ is the 10-bit representation.  Therefore, we use $AREF/2^{10}$ to equate a voltage represented by 1-bit.  \n",
        "\n",
        "    \n",
        "$$V_{adc} = M_{adc} \\times \\frac{5volts}{2^{10}} $$\n",
        "\n",
        "However, remember that the voltage measured at pin `A1` is 1/3 of VSW.  Therefore:\n",
        "\n",
        "$$VSW \\times 0.33 = V_{adc}$$\n",
        "\n",
        "$$VSW = \\frac{V_{adc}}{0.33}$$\n",
        "\n",
        "1. Write a simple program for your robot to measure your battery voltage within `loop().`\n",
        "    - Be sure to use the appropriate variable type.\n",
        "    - Remember that we are measuring the battery voltage, and this means you must activate battery power (the on/off button, and blue LED).\n",
        "    - View your result using the Serial Monitor and/or Serial Plotter.\n",
        "    - Check that the reported voltage appears reasonable (what would you expect?).\n",
        "\n",
        "\n",
        "2. Write a simple Arduino sketch to periodically activate the motors at high speed, and then to zero speed.  For example, 2 seconds on, and 2 seconds off.  \n",
        "  - What do you observe on the Serial Plotter?\n",
        "  - Experiment with different motor speeds and observe the results on your plotter.\n",
        "  - Experiment with your robot on different surfaces and observe the results on your plotter.\n",
        "  - Experiment with your robot on different inclination of surfaces (ramps).\n",
        "  - Experiment with your robot running into an obstruction.\n",
        "  - Write some code to filter your measurement of the battery voltage to reduce the measurement noise.  \n",
        "\n",
        "3. It is possible to set a different internal `AREF` voltage.  The <a href=\"https://www.arduino.cc/reference/en/language/functions/analog-io/analogreference/\">Arduino Documentation</a> states that, for devices using the  32u4 microcontroller:\n",
        "  - `analogReference( DEFAULT );` utilises a 5volt reference.\n",
        "  - `analogReference( INTERNAL );` utilises a 2.56volt reference.\n",
        "  - **Validate:** read the documentation to utilise `analogReference( INTERNAL );`, and adjust your calculation of `VSW` to use 2.56 volts.\n",
        "  - **Hypothesise:** What benefit might there be to setting `AREF` to 2.56volts?\n",
        "  - **Hypothesise:** What tasks could benefit from measuring the battery voltage, and could this be used to prove the utility of changing `AREF`?\n",
        "\n",
        "\n",
        "\n",
        "\n",
        "\n",
        "\n",
        "\n"
      ]
    }
  ]
}