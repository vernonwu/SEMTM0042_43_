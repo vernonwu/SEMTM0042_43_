{
  "nbformat": 4,
  "nbformat_minor": 0,
  "metadata": {
    "colab": {
      "provenance": [],
      "authorship_tag": "ABX9TyMOai2dJ5AOuO7PuaHsoa8V",
      "include_colab_link": true
    },
    "kernelspec": {
      "name": "python3",
      "display_name": "Python 3"
    },
    "language_info": {
      "name": "python"
    }
  },
  "cells": [
    {
      "cell_type": "markdown",
      "metadata": {
        "id": "view-in-github",
        "colab_type": "text"
      },
      "source": [
        "<a href=\"https://colab.research.google.com/github/paulodowd/EMATM0054_53/blob/main/SL5_ResultsOverSerial.ipynb\" target=\"_parent\"><img src=\"https://colab.research.google.com/assets/colab-badge.svg\" alt=\"Open In Colab\"/></a>"
      ]
    },
    {
      "cell_type": "markdown",
      "metadata": {
        "id": "W3Vor0Nqx0k3"
      },
      "source": [
        "# Supplementary Labsheet 5: Results over Serial\n",
        "\n",
        "This labsheet will help you to record results (measurements) on your 3Pi+ robot, and then retrieve them later over the Serial connection.  This will be a vital part of your work for **Assessment 2**.  The summary of the approach is to:\n",
        "- create an array as a **global variable**.\n",
        "- add results to this array over time, at a fixed time interval.\n",
        "- stop the robot, and report the content of the array via `Serial.print()`.\n",
        "\n"
      ]
    },
    {
      "cell_type": "markdown",
      "source": [
        "<img src=\"https://raw.githubusercontent.com/paulodowd/EMATM0054_53/main/Images/tick.png\" align=\"left\"> A core assessment criteria of Assessment 2 is to demonstrate your ability to analyse and evaluate a robotic system.  The primary means to do demonstrate analysis and evaluation will be through capturing measurements of your system, producing plots (graphs), and discussing them in written communication.  \n",
        "\n",
        "\n"
      ],
      "metadata": {
        "id": "XW-6oVSLL1rx"
      }
    },
    {
      "cell_type": "markdown",
      "source": [
        "<img src=\"https://raw.githubusercontent.com/paulodowd/EMATM0054_53/main/Images/info.png\" align=\"left\"> The 3Pi+ has a known issue: Unplugging the USB cable during the robot operation can cause irratic behaviour, and/or a reset of your robot.  However, you can activate your robot **without the USB cable plugged in**, and then **plug it in later** without resetting the robot. Your robot may still reset if you close the Serial monitor.\n",
        "\n"
      ],
      "metadata": {
        "id": "YeF4CPx7MKa6"
      }
    },
    {
      "cell_type": "markdown",
      "source": [
        "<img src=\"https://raw.githubusercontent.com/paulodowd/EMATM0054_53/main/Images/info.png\" align=\"left\"> The 3Pi+ robot also has non-volatile EEPROM memory.  Support for this has been removed because it has very limited utility.  EEPROM provides 1000 bytes of storage.  However, a `float` variable alone takes 4 bytes each.  Therefore, the recommended approach is the one detailed in this labsheet."
      ],
      "metadata": {
        "id": "tAakRvOOMlUg"
      }
    },
    {
      "cell_type": "markdown",
      "source": [
        "The below flow chart illustrates the overall process of capturing results:\n",
        "\n",
        "<p align=\"center\">\n",
        "<img src=\"https://raw.githubusercontent.com/paulodowd/EMATM0054_53/main/Images/ResultsOverSerial_FlowChart.png\">\n",
        "</p>"
      ],
      "metadata": {
        "id": "c3EON34CRUWx"
      }
    },
    {
      "cell_type": "markdown",
      "source": [
        "<img src=\"https://raw.githubusercontent.com/paulodowd/EMATM0054_53/main/Images/info.png\" align=\"left\"> You will want to structure your program for the 3Pi+ robot to have at least two states.  **First**, the code that operates your robot behaviours as your experiment trial.  **Second**, a state that stops the robot behaviours, and continuously reports the results over `Serial.print()`.  To run another trial of your robot, you would need to reset the power to the robot."
      ],
      "metadata": {
        "id": "o9l8ZVe0RniI"
      }
    },
    {
      "cell_type": "markdown",
      "metadata": {
        "id": "JynrnUb302XB"
      },
      "source": [
        "<hr><br><br><br><br>"
      ]
    },
    {
      "cell_type": "markdown",
      "metadata": {
        "id": "sTrGKShKyrcm"
      },
      "source": [
        "## Example Code\n",
        "\n",
        "Review the below example code.  This code is incomplete where you will need to add the code that operates your 3Pi+ robot behaviours.  You will also need to consider which measurements you are taking, and so adapt how global variables are used for this purpose.\n",
        "\n",
        "\n",
        "\n"
      ]
    },
    {
      "cell_type": "markdown",
      "source": [
        "<img src=\"https://raw.githubusercontent.com/paulodowd/EMATM0054_53/main/Images/info.png\" align=\"left\"> This example records 100 values of $x$, $y$ and $\\theta$, and so creates an array of the form `results[100][3]`.   This could also be achieved with three 1 dimensional arrays, such as `float x_results[100]; float y_results[100]; float theta_results[100];`."
      ],
      "metadata": {
        "id": "s5SI1Vg2WUk3"
      }
    },
    {
      "cell_type": "markdown",
      "source": [
        "<img src=\"https://raw.githubusercontent.com/paulodowd/EMATM0054_53/main/Images/info.png\" align=\"left\"> The total number of results you will be able to record will be constrained by the overall memory use of your robot controller code.  When you compile your code, check the output of the compiler for an estimate of the memory use."
      ],
      "metadata": {
        "id": "ckQ25lfTWmLs"
      }
    },
    {
      "cell_type": "markdown",
      "source": [
        "<img src=\"https://raw.githubusercontent.com/paulodowd/EMATM0054_53/main/Images/stop.png\" align=\"left\"> The compiler will tell you an estimate of memory usage for global variables.  For example, `Global variables use 710 bytes (27%) of dynamic memory, leaving 1850 bytes for local variables. Maximum is 2560 bytes.`  We can see that the maximum is **2560 bytes**.  The compiler may estimate incorrectly.  If you use all dynamic memory, **your robot will likely reset or behave irratically**.  Some processes (such as `Serial.print()`) are also using dynamic memory, which is very difficult for the compiler to predict.  Therefore, try to stay within 2560 bytes with space remaining."
      ],
      "metadata": {
        "id": "qZaZPvDUW1DU"
      }
    },
    {
      "cell_type": "markdown",
      "source": [
        "<img src=\"https://raw.githubusercontent.com/paulodowd/EMATM0054_53/main/Images/info.png\" align=\"left\"> If you need to record more results than you have memory, you may need to run repeated trials that focus on only 1 result (or subset) at a time.  For example, 10 repeated trials that capture $x$, then 10 repeated trials that capture $y$, and so on.   The design of your experiment is important - we want to control the factors that may influence results as much as possible."
      ],
      "metadata": {
        "id": "ovMtYV5xYbdX"
      }
    },
    {
      "cell_type": "markdown",
      "source": [
        "\n",
        "```c\n",
        "// We will store our results as a global\n",
        "// variable. Just as an example, let's store\n",
        "// 100 x,y, theta values.\n",
        "// Note, this means 100 * 3 floats. A float is\n",
        "// represented by 4 bytes.  Therefore,\n",
        "// 100 * 3 * 4 bytes (1200bytes).\n",
        "#define MAX_RESULTS 100\n",
        "#define VARIABLES   3\n",
        "float results[ MAX_RESULTS ][ VARIABLES ];\n",
        "\n",
        "// We will use this to track our position in\n",
        "// the results[][] array over time.  It will\n",
        "// start at 0, and increase to MAX_RESULTS.\n",
        "int results_index;\n",
        "\n",
        "// State machine.  We need at least two.\n",
        "#define STATE_RUNNING_EXPERIMENT  0\n",
        "#define STATE_FINISHED_EXPERIMENT 1\n",
        "int state;\n",
        "\n",
        "// Time stamp to track whether the experiment\n",
        "// duration has elapsed.\n",
        "unsigned long experiment_start_ts;\n",
        "#define EXPERIMENT_END_MS 5000 // 5 seconds?\n",
        "\n",
        "// We can try to automate the time interval\n",
        "// of storing results.\n",
        "unsigned long record_results_ts;\n",
        "unsigned long results_interval_ms;\n",
        "\n",
        "\n",
        "void setup() {\n",
        "\n",
        "  // Make sure we start storing results at\n",
        "  // position 0 in the results[][] array.\n",
        "  results_index = 0;\n",
        "\n",
        "  // Work out the time interval for storing\n",
        "  // results, given we have a max experiment\n",
        "  // duration, and a maximum number of results\n",
        "  results_interval_ms = ( EXPERIMENT_END_MS / MAX_RESULTS );\n",
        "  \n",
        "  // Start robot in running experiment state.\n",
        "  state = STATE_RUNNING_EXPERIMENT;\n",
        "\n",
        "  // Set to start recording results into\n",
        "  // row 0 of our results array\n",
        "  results_index = 0;\n",
        "\n",
        "  // Activate the serial port for later.\n",
        "  Serial.begin(9600);\n",
        "  delay(1000);\n",
        "  \n",
        "  // Beep so we know when robot has activated\n",
        "  // or reset.\n",
        "  analogWrite( BUZZ_PIN, 120 );\n",
        "  delay( 200 );\n",
        "  analogWrite( BUZZ_PIN, 0 );\n",
        "\n",
        "  // Record start time into timestamps\n",
        "  experiment_start_ts millis();\n",
        "  record_results_ts = millis();\n",
        "  \n",
        "}\n",
        "\n",
        "\n",
        "void loop() {\n",
        "\n",
        "  if( state == STATE_RUNNING_EXPERIMENT ) {\n",
        "\n",
        "    // Your experiment program would need\n",
        "    // to go here. E.g., whatever behaviours\n",
        "    // you are investigating as a trial of\n",
        "    // your experiment.\n",
        "\n",
        "\n",
        "    // Is it time to record a result?\n",
        "    unsigned long elapsed_time;\n",
        "    elapsed_time = millis() - record_results_ts;\n",
        "    \n",
        "    if( elapsed_time > results_interval_ms ) {\n",
        "\n",
        "        // Move time stamp forwards for next\n",
        "        // iteration.\n",
        "        record_results_ts = millis();\n",
        "\n",
        "        // Let's be safe and check we haven't\n",
        "        // filled up the results array already.\n",
        "        if( results_index < MAX_RESULTS ) {\n",
        "          \n",
        "          results[ results_index ][0] = 0; // save x (from kinematics?)\n",
        "          results[ results_index ][1] = 0; // save y (from kinematics?)\n",
        "          results[ results_index ][2] = 0; // save theta (from kinematics?)\n",
        "\n",
        "          // Increment result index for next time.\n",
        "          results_index++;\n",
        "\n",
        "        } else {\n",
        "          // If RESULTS_MAX has been reached, if yes\n",
        "          // then we have also finished the experiment.\n",
        "          state = STATE_FINISHED_EXPERIMENT;\n",
        "          return;\n",
        "        }\n",
        "\n",
        "    }\n",
        "\n",
        "\n",
        "    // Has the experiment duration been reached?\n",
        "    // If yes, move into the second state to\n",
        "    // report the results.\n",
        "    elapsed_time = millis() - experiment_start_ts;\n",
        "    if( elapsed_time > EXPERIMENT_END_MS ) {\n",
        "      \n",
        "      // Transition to other state.\n",
        "      state = STATE_FINISHED_EXPERIMENT;\n",
        "      return;\n",
        "    }\n",
        "    \n",
        "\n",
        "\n",
        "\n",
        "  } else if ( state == STATE_FINISHED_EXPERIMENT) {\n",
        "\n",
        "    // Once this state has been reached, the robot\n",
        "    // will remain in this state.  This state just\n",
        "    // prints out all the results, then delays 3\n",
        "    // seconds so you can copy-paste from serial\n",
        "    // monitor.\n",
        "\n",
        "    // Stop robot from moving.\n",
        "    motors.setPWM( 0, 0 ); // from Labsheet 1.\n",
        "\n",
        "    // Loop through the results, printing them\n",
        "    // line by line.  This formatting is CSV\n",
        "    // (comma seperated values) and can be\n",
        "    // imported to Excel, Python, etc.\n",
        "    int result;\n",
        "    Serial.println(\"Sample, X, Y, Theta\\n\");\n",
        "    for( result = 0; result < MAX_RESULTS; result++ ) {\n",
        "      Serial.print( result );\n",
        "      Serial.print(\",\");\n",
        "      Serial.print( results[ result ][0] ); // X\n",
        "      Serial.print(\",\");\n",
        "      Serial.print( results[ result ][1] ); // Y\n",
        "      Serial.print(\",\");\n",
        "      Serial.print( results[ result ][2] ); // Theta\n",
        "      Serial.print(\"\\n\");\n",
        "    }\n",
        "\n",
        "\n",
        "    // A delay is useful so that you have time\n",
        "    // to copy and paste from Serial Monitor.\n",
        "    delay(3000);\n",
        "      \n",
        "\n",
        "  }\n",
        "\n",
        "}\n",
        "\n",
        "\n",
        "\n",
        "```\n",
        "\n"
      ],
      "metadata": {
        "id": "sX4WD9ddWTe9"
      }
    }
  ]
}