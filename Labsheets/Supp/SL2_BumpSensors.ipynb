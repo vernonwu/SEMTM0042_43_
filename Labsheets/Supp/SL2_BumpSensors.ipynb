{
  "nbformat": 4,
  "nbformat_minor": 0,
  "metadata": {
    "colab": {
      "name": "SL2_BumpSensors",
      "provenance": [],
      "toc_visible": true,
      "authorship_tag": "ABX9TyMKHGNc0F99cn5Pc8caR5lF",
      "include_colab_link": true
    },
    "kernelspec": {
      "name": "python3",
      "display_name": "Python 3"
    },
    "language_info": {
      "name": "python"
    }
  },
  "cells": [
    {
      "cell_type": "markdown",
      "metadata": {
        "id": "view-in-github",
        "colab_type": "text"
      },
      "source": [
        "<a href=\"https://colab.research.google.com/github/paulodowd/EMATM0054_53/blob/main/Labsheets/Supp/SL2_BumpSensors.ipynb\" target=\"_parent\"><img src=\"https://colab.research.google.com/assets/colab-badge.svg\" alt=\"Open In Colab\"/></a>"
      ]
    },
    {
      "cell_type": "markdown",
      "metadata": {
        "id": "Pgwc9GPCLihn"
      },
      "source": [
        "# Supplementary Labsheet 2: 3Pi+ Bump Sensors\n",
        "\n",
        "\n",
        "This labsheet provides some guidance on using the bump sensors located at the front of the robot.  To work with the bump sensors, it is recommended that you have completed Labsheet 2: Line Sensors.\n",
        "\n",
        "\n",
        "\n",
        "\n",
        "\n",
        "\n",
        "\n",
        "\n"
      ]
    },
    {
      "cell_type": "markdown",
      "metadata": {
        "id": "6EblFTqyclh3"
      },
      "source": [
        "<hr><br><br><br><br>"
      ]
    },
    {
      "cell_type": "markdown",
      "metadata": {
        "id": "krVl33vMUFAt"
      },
      "source": [
        "# Bump Sensor Characteristics\n",
        "\n",
        "<p align=\"center\">\n",
        "<img width=\"50%\" src=\"https://github.com/paulodowd/EMATM0054_53/blob/main/Images/3PI_BumpSensors.png?raw=true\">\n",
        "</p>\n",
        "\n",
        "The bump sensors operate in the same manner as the line sensors, with a few minor operational differences.  However, instead of measuring `infra-red` (IR) light reflected from the ground surface, reflected IR light is measured off the two flexible plastic segments (bumpers) at the front of the 3Pi+ robot. As these plastic segments are depressed against the 3Pi+ body, the quantity of reflected light reduces.\n",
        "\n",
        "<p align=\"center\">\n",
        "<img width=\"75%\" src=\"https://github.com/paulodowd/EMATM0054_53/blob/main/Images/3PI_BumpPlot.png?raw=true\">\n",
        "</p>\n",
        "\n",
        "The above plot shows example readings from the two bump sensors on a 3Pi+.  The characteristics of your bump sensors will vary.  It is important to note that in the above plot, we can clearly see that the two sensors perform very differently.  On the plot, a green dotted line marks where both sensors have been depressed fully (against the 3Pi+ body).  Despite both bump sensors having roughly the same range of motion, and the same electronic parts, we can see that the timing characteristics are very different.  \n",
        "\n",
        "<p align=\"center\">\n",
        "<img width=\"50%\" src=\"https://github.com/paulodowd/EMATM0054_53/blob/main/Images/3PI_BumpAmbientInterference.png?raw=true\">\n",
        "</p>\n",
        "\n",
        "In the above plot, the 3Pi+ was rotated 360&deg; without any contact on the bump sensors.  Therefore, the operation of the bump sensors **without contact** varies with ambient light `interference`.  The variation in the timing characterstic for both bump sensors repeats with a period.  This is because the data was collected in an `environment` with windows to one side of the room.  As the robot rotates, it moves the sensors into a well lit condition, and then into a darker region.  \n",
        "\n",
        "<p align=\"center\">\n",
        "<img width=\"50%\" src=\"https://github.com/paulodowd/EMATM0054_53/blob/main/Images/3PI_AmbientMeasurement.png?raw=true\">\n",
        "</p>\n",
        "\n",
        "In the above plot, the same rotation procedure was repeated but this time without the IR LEDs activated.    \n",
        "\n",
        "Without any IR LEDs activated, we can observe very long read time of up to 14000us (and this will vary with each 3Pi+ robot and the environment light conditions).  The bump sensors were responding only to ambient light conditions, with no IR being actively shone and reflected from the bumpers.  Note that, the bump sensors were not depressed again - the sensors were simply responding to variation in ambient light.\n",
        "\n",
        "We can consider the performance of the bump sensors in two context, and discuss advantages and disadvantages:\n",
        "\n",
        "- **To Detect Collisions**:\n",
        "  - An advantage to using IR Light to detect the depression of the bump sensors allows for the measurment of a continuous signal.  This could mean that it is possible to operate the robot in a manner where a collision is avoided before any wheel slip occurs.\n",
        "  - A disadvantage of using IR Light to detect the depression of the bump sensors is that their performance characteristic varies with ambient light. Therefore, it will likely be necessary to write a calibration routine to make robust autonomous decisions from the bump sensors.\n",
        "\n",
        "- **To Detect Ambient Light Measurements**:\n",
        " - A disadvantage of using the bump sensors to detect ambient light levels is that dark regions may take up to 14ms to conduct a reading, which is a relatively long time for our probable `tasks`.\n",
        " - An interesting advantage of detecting ambient levels whilst the IR Light emitters are activated is that the overall read time remains relatively quick (when the bumpers are not depressed), but variation in the ambient light condition is still evidenced.\n"
      ]
    },
    {
      "cell_type": "markdown",
      "metadata": {
        "id": "RGHdKAoCcoFv"
      },
      "source": [
        "<hr><br><br><br><br>"
      ]
    },
    {
      "cell_type": "markdown",
      "metadata": {
        "id": "BraxBLMCQKIY"
      },
      "source": [
        "## Exercise 1: Adapt Line Sensors Code\n",
        "\n",
        "<img src=\"https://raw.githubusercontent.com/paulodowd/EMATM0054_53/main/Images/exercise.png\" align=\"left\"> **Exercise:** For this exercise you should adapt the code you have written to operate your line sensors.  Labsheet 2 specified two approaches to reading the line sensors: an `ADC` approach that used `analogRead()`; a `Digital` approach that used `digitalRead()` and `micros()`.\n",
        "\n",
        "\n",
        "\n",
        "    \n",
        "\n"
      ]
    },
    {
      "cell_type": "markdown",
      "source": [
        "**ADC Approach**: Only 1 bumper can be read with the ADC approach.  By reviewing the <a href=\"https://www.pololu.com/docs/0J83/5.9\">pin assignment table</a> for the Pololu 3Pi+ robot, we discover that it is the left bump sensor attached to pin `A6`.  Therefore, you can conduct an analog read using the function call `analogRead(A6);`.  Remember to set the pin mode to an `INPUT`.\n",
        "\n",
        "**Digital Approach:** Both bump sensors can be read via the digital approach.\n",
        " Adapt your line sensor digital read code to:\n",
        " - use the correct Arduino pin names for the left and right bumpers.\n",
        " - only read the 2 bump sensors (i.e. not 5 line sensors)."
      ],
      "metadata": {
        "id": "CCQ4ptqvlih0"
      }
    },
    {
      "cell_type": "markdown",
      "source": [
        "<img src=\"https://raw.githubusercontent.com/paulodowd/EMATM0054_53/main/Images/info.png\" align=\"left\"> To use the bump sensors to **detect collisions** you will need to ensure that the `EMIT` pin is set to an `OUTPUT` and `LOW`.  (<a href=\"https://www.pololu.com/docs/0J83/5.5\">documentation</a>).  This will mean the 3Pi+ robot is transmitting IR light and measuring the reflectance of the bumper paddles."
      ],
      "metadata": {
        "id": "i8rR85MSkXEz"
      }
    },
    {
      "cell_type": "markdown",
      "source": [
        "<img src=\"https://raw.githubusercontent.com/paulodowd/EMATM0054_53/main/Images/info.png\" align=\"left\"> To use the bump sensors to measure ambient light, or an external IR source, you will need to ensure that the `EMIT` pin is set to an `INPUT`, which will **turn off the IR LEDs** on the robot.    (<a href=\"https://www.pololu.com/docs/0J83/5.5\">documentation</a>).  This will mean your robot does not cause signal interference with the external source of light."
      ],
      "metadata": {
        "id": "IAQER7NskXbR"
      }
    },
    {
      "cell_type": "markdown",
      "metadata": {
        "id": "L_mxvz0TcybP"
      },
      "source": [
        "<hr><br><br><br><br>"
      ]
    },
    {
      "cell_type": "markdown",
      "metadata": {
        "id": "wZ-X88Qqcs3H"
      },
      "source": [
        "## Exercise 2: Calibration and Binary Bump Detection\n",
        "<img src=\"https://raw.githubusercontent.com/paulodowd/EMATM0054_53/main/Images/info.png\" align=\"left\"> The following exercise is only appropriate for detecting physical collisions with the bump sensors.  If you are detecting an external light source, it is more appropriate to write a simpler calibration routine that has the robot rotate on the spot to collect ambient readings, to discover the `minimum`, `maximum` and `range` of each sensor.  Importantly, measuring ambient light can take a relatively long time - therefore, you will need to validate that your robot is rotating slowly enough to complete a meaningful reading at each step or rotation.\n",
        "\n"
      ]
    },
    {
      "cell_type": "markdown",
      "source": [
        "\n",
        "<img src=\"https://raw.githubusercontent.com/paulodowd/EMATM0054_53/main/Images/exercise.png\" align=\"left\"> **Exercise:** In Labsheet 2: Line Sensors, we wrote a calibration routine that captured the `minimum`, `maximum` and `range` of the line sensors.  We achieved this by having the robot rotate over the black and white disc on the coursework map.  To calibrate the bump sensors with a similar method, it is necessary to **fully depress the bumpers by hand** to capture their `minimum`, `maximum` and `range`.  This is because, without any interaction, the bumper paddles will not move, and so the robot cannot capture the full range of possible values.\n",
        "\n",
        "1. Write a short routine either within `setup()` or as a function to call from `setup()` that will achieve the following steps:\n",
        "  - Initialise variables `minimum`, `maximum` and `range` ready to begin calibration.\n",
        "  - Produce a short beep, so that you know the robot is ready to begin calibration.  \n",
        "    - At which point, you should physically press the bumpers fully.\n",
        "    - Allow the robot to read the bump sensors for a short period of time with the bumpers held closed, such as 2 seconds.\n",
        "  - Produce another short beep to indicate that the readings of the bumpers \"fully pressed\" have been captured.  \n",
        "    - At which point, you should release the bump sensors (no longer held fully closed).\n",
        "    - The robot should read the  bump sensors for a short period of time with the bumpers open, such as 2 seconds.\n",
        "  - Two short beeps to indicate that the calibration has finished.\n",
        "    - You should write code to store the `minimum`, `maximum` and `range` values for each bumper, and apply them to all future bumper readings.\n",
        "\n",
        "<img src=\"https://raw.githubusercontent.com/paulodowd/EMATM0054_53/main/Images/info.png\" align=\"left\"> For more information on the calibration calculations, you can review the pseudocode provided in Labsheet 2:"
      ],
      "metadata": {
        "id": "0VXGCK0upQHU"
      }
    },
    {
      "cell_type": "markdown",
      "source": [
        "<p align=\"center\">\n",
        "<img src=\"https://raw.githubusercontent.com/paulodowd/EMATM0054_53/main/Images/pseudocode_calibrate_linesensors.jpg\">\n",
        "</p>"
      ],
      "metadata": {
        "id": "bdVFVEJdojU8"
      }
    },
    {
      "cell_type": "markdown",
      "metadata": {
        "id": "YIpkHL93hZuq"
      },
      "source": [
        "<hr><br><br><br><br>"
      ]
    },
    {
      "cell_type": "markdown",
      "metadata": {
        "id": "tArTYD40hbt5"
      },
      "source": [
        "## Exercise 3: Directional Bump Detection\n",
        "<img src=\"https://raw.githubusercontent.com/paulodowd/EMATM0054_53/main/Images/exercise.png\" align=\"left\"> **Exercise:** We can utilise the calibrated readings of both bump sensors readings to make an estimate of the direction of contact.  This approach is simple and has some limitations that are worth exploring.  \n"
      ]
    },
    {
      "cell_type": "markdown",
      "source": [
        "\n",
        "\n",
        "1. Utilise the calibration for left and right bumper to return a normalised value from each sensor in the range [ 0.0 : 1.0 ].  It is up to you to decide whether a value of `0.0` represents `fully open` or `fully closed`.  \n",
        "\n",
        "2. To gain a direction estimate, $D$, substract one sensor reading from the other.  It is not important whether it is `left - right`, or `right - left`.  The results will be a value in the range [ -1.0 : +1.0 ].  \n",
        "  - If `1.0` represents fully open (not pressed), then with no contact we would expect $D = 0$ (1.0 - 1.0).\n",
        "  - If one sensor is fully closed (pressed) and the other open (not pressed), we would expect $D = 1.0$ or $D = -1.0$, depending on which sensor is pressed.   Therefore, $D$ provides a simple mapping of direction relating each bumper.\n",
        "  - In reality, the state of the bumpers will not be conveniently binary in their state, such as the above two examples.  You will need to explore how bumper depression effects the estimate $D$.\n"
      ],
      "metadata": {
        "id": "pBjdqf9pptCT"
      }
    },
    {
      "cell_type": "markdown",
      "metadata": {
        "id": "-K-XUwLtiUwC"
      },
      "source": [
        "<hr><br><br><br><br>"
      ]
    }
  ]
}