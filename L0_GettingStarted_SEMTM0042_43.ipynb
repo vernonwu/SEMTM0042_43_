{
  "nbformat": 4,
  "nbformat_minor": 0,
  "metadata": {
    "kernelspec": {
      "display_name": "Python 3",
      "language": "python",
      "name": "python3"
    },
    "language_info": {
      "codemirror_mode": {
        "name": "ipython",
        "version": 3
      },
      "file_extension": ".py",
      "mimetype": "text/x-python",
      "name": "python",
      "nbconvert_exporter": "python",
      "pygments_lexer": "ipython3",
      "version": "3.7.3"
    },
    "colab": {
      "provenance": [],
      "toc_visible": true,
      "include_colab_link": true
    }
  },
  "cells": [
    {
      "cell_type": "markdown",
      "metadata": {
        "id": "view-in-github",
        "colab_type": "text"
      },
      "source": [
        "<a href=\"https://colab.research.google.com/github/paulodowd/SEMTM0042_43/blob/main/L0_GettingStarted_SEMTM0042_43.ipynb\" target=\"_parent\"><img src=\"https://colab.research.google.com/assets/colab-badge.svg\" alt=\"Open In Colab\"/></a>"
      ]
    },
    {
      "cell_type": "markdown",
      "metadata": {
        "button": false,
        "run_control": {
          "read_only": false
        },
        "id": "tM8o0KwEmOxQ"
      },
      "source": [
        "# Labsheet 0: Getting Started, Uploading, Debugging"
      ]
    },
    {
      "cell_type": "markdown",
      "metadata": {
        "button": false,
        "run_control": {
          "read_only": false
        },
        "id": "5jrBgqOlmOxS"
      },
      "source": [
        "This Labsheet serves as the basic introduction to the 3Pi+ robot, using the Arduino IDE, and some elementary programming concepts.  \n",
        "\n"
      ]
    },
    {
      "cell_type": "markdown",
      "source": [
        "<img src=\"https://raw.githubusercontent.com/paulodowd/SEMTM0042_43/main/Images/info.png\" align=\"left\"> **Information:** If you have previous experience with programming Arduino, it may be possible to skip this Labsheet.  However, it is **strongly recommended** that you complete the section on **non-blocking code** - **Exercise 5** and **Exercise 6** as a minimum.  These exercises are referred to in all labsheets."
      ],
      "metadata": {
        "id": "wKWuaZ5Fmf_n"
      }
    },
    {
      "cell_type": "markdown",
      "source": [
        "<img src=\"https://raw.githubusercontent.com/paulodowd/SEMTM0042_43/main/Images/info.png\" align=\"left\"> **Information:**  Sometimes we make a serious error in our code, and then we get an error in the Arduino IDE that it cannot connect to the robot - that is OK!  If this happens to you, please refer to the  <a href=\"https://colab.research.google.com/github/paulodowd/SEMTM0042_43_23-24/blob/main/Labsheets/Core/L0_Troubleshooting.ipynb\">Troubleshooting Labsheet</a>.  You can also ask a member of teaching staff for assistance."
      ],
      "metadata": {
        "id": "ylH9tHMum0Zc"
      }
    },
    {
      "cell_type": "markdown",
      "source": [
        "\n",
        "<img src=\"https://raw.githubusercontent.com/paulodowd/SEMTM0042_43/main/Images/tick.png\" align=\"left\"> Throughout these labsheets, we will refer to the template code provided to you in the **3Pi CodeStub**.  This is an Ardunio sketch (code) that is incomplete (a stub).  You can download the code stub from <a href=\"https://github.com/paulodowd/SEMTM0042_43/tree/main/3Pi_CodeStub\">this page</a>. Either right click the .zip file and select \"save as\", or click the \"download raw\" icon to the top right.  It is recommended that you create copies for your work on each labsheet.\n"
      ],
      "metadata": {
        "id": "V4q49lkp1a9U"
      }
    },
    {
      "cell_type": "markdown",
      "source": [
        "\n",
        "## 3Pi+ Overview Video (optional)\n",
        "\n",
        "The following video discusses the components and configuration of the 3Pi+ robot.  \n",
        "<p align=\"center\">\n",
        "<a href=\"https://www.youtube.com/watch?v=BRJKrKbe4Uw\"><img src=\"https://img.youtube.com/vi/BRJKrKbe4Uw/0.jpg\"></a>\n",
        "</p>\n",
        "<p align=\"center\">\n",
        "<a href=\"https://youtu.be/BRJKrKbe4Uw\">Youtube Link</a>\n",
        "</p>"
      ],
      "metadata": {
        "id": "Jhh49GNamvqf"
      }
    },
    {
      "cell_type": "markdown",
      "metadata": {
        "button": false,
        "run_control": {
          "read_only": false
        },
        "id": "6sjMrLYdmOxT"
      },
      "source": [
        "<hr><br><br><br><br>"
      ]
    },
    {
      "cell_type": "markdown",
      "metadata": {
        "id": "1g1Okm5SSwlW"
      },
      "source": [
        "# Installing the Arduino IDE\n",
        "\n",
        "To get started, you will need to download and install the Arduino IDE.  This is free software and it is available for all common platforms (Windows, Linux, Apple).  You are also able to work in the University of Bristol computer labs, where you should find a copy installed.  If a copy is not installed on a University computer, you can download the version `Windows Zip` (a .zip file), extract this into your Documents directory, and run the Arduino IDE from there.\n",
        "\n",
        "\n"
      ]
    },
    {
      "cell_type": "markdown",
      "source": [
        "<img src=\"https://raw.githubusercontent.com/paulodowd/SEMTM0042_43/main/Images/info.png\" align=\"left\">  It is **strongly** recommended that you use **Arduino IDE version 1.8.19**.  You need to scroll down the software webpage to find it.  This version is stable and reliable.  Some features in version 2.0 have caused difficulty in the past.  You can download the Arduino IDE from <a href=\"https://www.arduino.cc/en/software\">https://www.arduino.cc/en/software</a>."
      ],
      "metadata": {
        "id": "0w98gS-xHBKH"
      }
    },
    {
      "cell_type": "markdown",
      "source": [
        "<img src=\"https://raw.githubusercontent.com/paulodowd/SEMTM0042_43/main/Images/info.png\" align=\"left\">   You are free to use another IDE, such as Eclipse of Visual Studio.  However, the teaching staff are **not able to offer support** to these applications.  "
      ],
      "metadata": {
        "id": "-TzEEDLCHhDx"
      }
    },
    {
      "cell_type": "markdown",
      "source": [
        "<img src=\"https://raw.githubusercontent.com/paulodowd/SEMTM0042_43/main/Images/stop.png\" align=\"left\"> **Caution:** When you submit your code for assessment, it must compile without any errors.  Therefore, if you have used a different IDE (such as Microsoft Visual Studio), you must ensure that your code uploaded for assessment is re-configured to compile without errors in the Arduino IDE."
      ],
      "metadata": {
        "id": "JGoa8uETwtYL"
      }
    },
    {
      "cell_type": "markdown",
      "source": [
        "<img src=\"https://raw.githubusercontent.com/paulodowd/SEMTM0042_43/main/Images/info.png\" align=\"left\">   When you connect your 3Pi+ robot via the USB cable, remember that you will need to:\n"
      ],
      "metadata": {
        "id": "Qz8w28MxHoXR"
      }
    },
    {
      "cell_type": "markdown",
      "source": [
        "- Select the appropriate board, `Tools -> Board -> Arduino Leonardo`.  \n",
        "- Select the appropriate port, `Tools -> Ports ->`\n",
        "  - This will be COM(n) in Windows, and as a general rule, the highest enumerated.\n",
        "  - This will be something like `ttyUSB0` or `ttyACM0` in Linux\n",
        "  - This will be something like `USBModem` on Apple computers."
      ],
      "metadata": {
        "id": "zIfAoUk-Htx5"
      }
    },
    {
      "cell_type": "markdown",
      "source": [
        "<img src=\"https://raw.githubusercontent.com/paulodowd/SEMTM0042_43/main/Images/info.png\" align=\"left\">  Sometimes students have experienced hardware driver issues for the USB port.  Further help on setting up the Arduino IDE can be found on the <a href=\"https://www.pololu.com/docs/0J83/6.2\">Pololu Website in the 3Pi+ documentation</a>.  "
      ],
      "metadata": {
        "id": "pIwfZdDBH2sx"
      }
    },
    {
      "cell_type": "markdown",
      "source": [
        "<img src=\"https://raw.githubusercontent.com/paulodowd/SEMTM0042_43/main/Images/info.png\" align=\"left\">  To add `line numbers`, `code block collapsing`, or to turn off `auto-complete` features, you can click: `File -> Preferences`, and in the dialogue box find a reference to a text file with further options called \"preferences.txt\".  Edit this file to set your preferences and save the file.   You will need to restart the Arduino IDE."
      ],
      "metadata": {
        "id": "9kT9dHxXHZ85"
      }
    },
    {
      "cell_type": "markdown",
      "metadata": {
        "id": "OP3CRjEiSyyF"
      },
      "source": [
        "<hr><br><br><br><br>"
      ]
    },
    {
      "cell_type": "markdown",
      "metadata": {
        "id": "s-m7QgKy2M5O"
      },
      "source": [
        "# Pololu 3PI+ in Overview\n",
        "\n",
        "<img src=\"https://raw.githubusercontent.com/paulodowd/SEMTM0042_43/main/Images/theory.png\" align=\"left\">  The aim of these Labsheets is to help you to develop a **deep understanding**, which is best gained by writing your own code for the available hardware.  To achieve the higher marks in the foraging challenge, you will need to understand your system to be able to refine it and solve problems.\n",
        "\n",
        "These labsheets are designed to give you the necessary practice (i.e time invested) to develop skill in debugging software written for a robotic system.  In reality, most of a programmers time is probably spent debugging code.  In robotics, debugging can be especially difficult because there are potentially many areas of the system for a problem to exist.\n",
        "\n",
        "<p align=\"center\">\n",
        "<br>\n",
        "<img src=\"https://github.com/paulodowd/SEMTM0042_43/blob/main/Images/3PI_BottomAnnotated.png?raw=true\">\n",
        "<br>\n",
        "</p>\n",
        "\n",
        "In the above image, the 3Pi+ has been flipped over, so that the bottom of the robot is visible.  On the right, the the position of the 5 infra-red surface reflectance sensors (line sensors) have been indicated.  \n",
        "- Labsheet 1 will help you to operate your motors, and so get your robot moving.\n",
        "- Labsheet 2 will help you to read sensors, and so get your robot to autonomously navigate the coursework map.\n",
        "\n",
        "The 3Pi+ is controlled by an ATMEL ATMEGA32u4 Microcontroller (<a href=\"https://www.microchip.com/en-us/product/ATmega32U4\">produce page</a>, <a href=\"https://ww1.microchip.com/downloads/en/DeviceDoc/Atmel-7766-8-bit-AVR-ATmega16U4-32U4_Datasheet.pdf\">datasheet</a>).  \n",
        "\n",
        "Throughout these labsheets you'll find a general discussion of the electronics.  We will not be required to make any changes or direct interaction with the electronics.  However, as a roboticist it is good to learn to read electronic schematics, so that you can understand how sensors and motors are connected to your system.\n",
        "\n",
        "\n"
      ]
    },
    {
      "cell_type": "markdown",
      "metadata": {
        "id": "8Rcz4dwvmOxV"
      },
      "source": [
        "<br><br><br><br>"
      ]
    },
    {
      "cell_type": "markdown",
      "metadata": {
        "button": false,
        "run_control": {
          "read_only": false
        },
        "id": "mmJHALsSmOxV"
      },
      "source": [
        "# 3Pi+ Software Overview\n"
      ]
    },
    {
      "cell_type": "markdown",
      "metadata": {
        "button": false,
        "run_control": {
          "read_only": false
        },
        "id": "j1BHJhlRmOxY"
      },
      "source": [
        "### General Workflow\n",
        "\n",
        "<img src=\"https://raw.githubusercontent.com/paulodowd/SEMTM0042_43/main/Images/theory.png\" align=\"left\">  Code for the 3Pi+ is a set of instructions to the microcontroller.  These are written in plain text, following the general syntax of the C/C++ langauge.  The programming language in Arduino is an unconventional mix of C and C++.  \n",
        "\n",
        "Your code is in a `human readable` form, but it will be compiled into `machine code` for the 3Pi+ to use.  Once we have some code, we will press the upload button in the Arduino IDE and the following things will occur:\n",
        "\n",
        "1. The IDE will attempt to compile your code into machine code.  If there is an error in your code, this will be reported and the upload process stopped.  You would need to edit your code to fix the error.  If you receive lots of error messages, it is usually the first (most historic) that is the root cause of later problems.\n",
        "\n",
        "2. The IDE will attempt to establish a USB Serial connection to your 3Pi+ robot.\n",
        "\n",
        "3. The machine code file (a .hex file) will be transferred and set into the **`non-volatile`** storage of the 3Pi+ robot.  Sometimes, a connection error might occur here, and the whole process would need to be repeated.  Once completed, the USB Serial connection will be disconnected.\n",
        "\n",
        "4. The 3Pi+ will perform a reset, and begin following the instructions that you have written within your code.  Note, the 3Pi+ robot will now operate the code, not your personal computer.\n",
        "  - Therefore, if you change your code within the Arduino IDE, this will not change the behaviour of the robot.\n",
        "  - You will need to upload your code when you change it, once you are ready to test it.  \n",
        "  - **There is not a way to stop your code from running on the robot**.  The only choice you have is to remove power from the robot, or upload a different program.\n",
        "\n"
      ]
    },
    {
      "cell_type": "markdown",
      "metadata": {
        "button": false,
        "run_control": {
          "read_only": false
        },
        "id": "Lppo5yQamOxW"
      },
      "source": [
        "### Built-in Example Code\n",
        "\n",
        "The Atmega 32u4 and similar processors (such as the Atmega328p used in the Arduini Uno) can be programmed in a C/C++ variant developed by the Arduino Community.  This code can be transferred from your PC to the 3Pi+ via USB with the Arduino Integrated Development Environment (IDE).  There are many Examples included within the Arduino IDE.  These are very useful to investigate.  \n",
        "\n",
        "For this labsheet:\n",
        "\n",
        "1. Open the Arduino IDE on your personal computer.\n",
        "2. Select File --> Examples --> 01.Basics --> Blink\n",
        "\n",
        "You should see the following code:"
      ]
    },
    {
      "cell_type": "markdown",
      "metadata": {
        "button": false,
        "run_control": {
          "read_only": false
        },
        "id": "rNq0DRjgmOxX"
      },
      "source": [
        "```c\n",
        "/*\n",
        "  Blink\n",
        "\n",
        "  Turns an LED on for one second, then off for one second, repeatedly.\n",
        "\n",
        "  Most Arduinos have an on-board LED you can control. On the UNO, MEGA and ZERO\n",
        "  it is attached to digital pin 13, on MKR1000 on pin 6. LED_BUILTIN is set to\n",
        "  the correct LED pin independent of which board is used.\n",
        "  If you want to know what pin the on-board LED is connected to on your Arduino\n",
        "  model, check the Technical Specs of your board at:\n",
        "  https://www.arduino.cc/en/Main/Products\n",
        "\n",
        "  modified 8 May 2014\n",
        "  by Scott Fitzgerald\n",
        "  modified 2 Sep 2016\n",
        "  by Arturo Guadalupi\n",
        "  modified 8 Sep 2016\n",
        "  by Colby Newman\n",
        "\n",
        "  This example code is in the public domain.\n",
        "\n",
        "  http://www.arduino.cc/en/Tutorial/Blink\n",
        "*/\n",
        "\n",
        "// the setup function runs once when you press reset or power the board\n",
        "void setup() {\n",
        "  // initialize digital pin LED_BUILTIN as an output.\n",
        "  pinMode(LED_BUILTIN, OUTPUT);\n",
        "}\n",
        "\n",
        "// the loop function runs over and over again forever\n",
        "void loop() {\n",
        "  digitalWrite(LED_BUILTIN, HIGH);   // turn the LED on (HIGH is the voltage level)\n",
        "  delay(1000);                       // wait for a second\n",
        "  digitalWrite(LED_BUILTIN, LOW);    // turn the LED off by making the voltage LOW\n",
        "  delay(1000);                       // wait for a second\n",
        "}\n",
        "```"
      ]
    },
    {
      "cell_type": "markdown",
      "metadata": {
        "id": "CMGcaNiPIMRF"
      },
      "source": [
        "### Comments\n",
        "\n",
        "Let's investigate the example code above. The code between lines 1 and 23 is enclosed by '/\\*' and '\\*/' and is known as a <i>comment</i>. Comments may also be marked by a double slash '//'.  Comments are not an instruction to the microcontroller and are ignored by the compiler.  Comments are text left by the developer to help the understanding of the code. It is recommended you use comments to plan what you are to write and to remember how your code operates.  It can also be useful to comment-out code when you are attempting to solve an error in your working:  \n",
        "\n",
        "```c\n",
        "/* Example comment\n",
        "   across multiple\n",
        "   lines.\n",
        "*/\n",
        "\n",
        "// Single line comment example\n",
        "```\n",
        "\n"
      ]
    },
    {
      "cell_type": "markdown",
      "metadata": {
        "id": "IsAccc3dHuDN"
      },
      "source": [
        "### Built-in Functions, Arduino Reference\n",
        "\n",
        "Starting on line 26 (and below another comment), we have the **`setup()`** function. The code contained in this function is run once, when the 3Pi+ is turned on. The utility of the `setup()` function is to configure your robot **before** it begins to operate.  Currently, the example `setup()` function contains a single line:\n",
        "\n",
        "`pinMode(LED_BUILTIN, OUTPUT);`\n",
        "\n",
        "The above line is a function call, utilising a built-in function to operate the microcontroller.  This function call operates as named - to set the mode of a pin.  You can find this function and others in the <a href=\"https://www.arduino.cc/reference/en/\">Arduino Reference</a>, which includes examples of their use.\n",
        "\n",
        "A Microcontroller such as the Atmega32u4 contains a number of pins, most of which can be configured as either an input or an output. The above line of code calls the function `pinMode` with two **`arguments`**:\n",
        "1. `LED_BUILTIN`, a keyword which refers to a pin connected to a built in LED on the  3Pi+ board. Here, you could also use a number to indicate which pin.  LED_BUILTIN is transferrable between Arduino devices, but it is typically pin 13.\n",
        "2. `OUTPUT`: a key word, used to toggle the mode of the pin.  The alternative would be the keyword `INPUT`.  In this case, it is the Orange LED on the left hand side of the board.  \n",
        "\n",
        "`LED_BUILTIN` is effectively a 'find and replace' for pin 13.  Pin 13 is almost always the LED built in to arduino devices. You can create your own 'find and replace' keywords by using syntax like `#define MY_PIN_NAME 6` at the very top of your program.  When using other devices, you'll probably need to look up and use the exact pin number (e.g., `6` for digital pin 6, or `A2` for analog pin 2.  \n",
        "\n",
        "When the second argument is specified as `OUTPUT`, this indicates that the pin will output a HIGH or LOW voltage during it's use.  This is later used to turn the LED on and off.  If we instead use `INPUT` as an argument, the Arduino would expect your later code do a read (measurement) of the voltage present at the pin.\n",
        "\n"
      ]
    },
    {
      "cell_type": "markdown",
      "metadata": {
        "button": false,
        "run_control": {
          "read_only": false
        },
        "id": "FKG-Ub2tmOxZ"
      },
      "source": [
        " Next, we have the main loop, **`loop()`**. This function will be called repeatedly by the Microcontroller. In this case, we first see the line:\n",
        "\n",
        "```c\n",
        "digitalWrite(LED_BUILTIN, HIGH);\n",
        "```\n",
        "This tells the microcontroller to set the voltage of the LED_BUILTIN pin to be high (5V in this case).  Again, LED_BUILTIN here is effectively substituted for the digital pin `13` when the code is compiled.  The `digitalWrite()` function  causes current to flow through the LED, turning it on. Next we have the line:\n",
        "\n",
        "`delay(1000);`\n",
        "\n",
        "The function `delay()` is another built-in function from the Arduino environment (<a href=\"https://www.arduino.cc/reference/en/language/functions/time/delay/\">reference page</a>).  The function `delay(1000)` tells the microcontroller to wait (do nothing) for 1000 milliseconds.\n",
        "\n",
        "After using `delay()`, the example sets the LED_BUILTIN pin low (turning off the LED), before delaying for another second.\n",
        "\n",
        "After this instruction has finished, the program returns to the beginning of the loop() function and turns the LED on again.  As this happens repetitively, we should see the LED flash at a frequency of 0.5 Hz.\n"
      ]
    },
    {
      "cell_type": "markdown",
      "metadata": {
        "id": "WjSyyHwuHxuN"
      },
      "source": [
        "### Setup(), Loop() and iterating.\n",
        "\n",
        "Before we go further, it is useful to consider the overall structure (architecture) of the software.  At the highest level, we can view the code that runs on the 3Pi+ as composed of two parts:\n",
        "1. The **setup code** which is executed when the 3Pi+ is first powered on. This code should be written in the **`setup()`** function.\n",
        "2. The **main loop**, inside the function **`loop()`**, which will also serve to call other functions you may write.\n",
        "\n",
        "<p align=\"center\">\n",
        "<br>\n",
        "<img width=\"400px\" src=\"https://github.com/paulodowd/SEMTM0042_43/blob/main/Images/Arduino_BasicOverview.png?raw=true\">\n",
        "<br>\n",
        "</p>\n",
        "\n",
        "The code in`loop()` function is executed repeatedly and indefinitely, until the robot is:\n",
        "- switched off.\n",
        "- resets, sometimes due to a computing error.\n",
        "- runs out of power.\n",
        "\n",
        "The main code of your program should be written in the `loop()` function.  Aim to have your `loop()` code to return and be called again - to operate iteratively.  The below illustration shows an iterative approach to counting up to 10:\n",
        "\n",
        "<p align=\"center\">\n",
        "<br>\n",
        "<img width=\"400px\" src=\"https://github.com/paulodowd/SEMTM0042_43/blob/main/Images/Arduino_CountToTen.png?raw=true\">\n",
        "<br>\n",
        "</p>\n",
        "\n",
        "Note that, in the above illustration, `loop()` would need to be executed 10 times for `countToTen()` to return `true`.  Like this, `loop()` would be able to execute some other code whilst the count to 10 had not been completed.  In contrast, a loop operator within `countToTen()` (such as the example below) would have blocked `loop()` from running for a (very) short duration:  \n",
        "\n",
        "```c\n",
        "// An example of a blocking function\n",
        "bool countToTen() {\n",
        "  int i;\n",
        "  i = 0;\n",
        "\n",
        "  // microcontroller will be repeating\n",
        "  // this 10 times\n",
        "  while( i < 10 ) {\n",
        "    i = i + 1;\n",
        "  }\n",
        "  return true;\n",
        "\n",
        "}\n",
        "```\n",
        "\n",
        "In general, the example of counting to 10 would not be of significant detriment to the system.  However, hardware access or iteration over large arrays can be a problem.  Therefore, the general guidance is:\n",
        "\n",
        "1. It is desirable that your robot operates with the most up-to-date information available - therefore, it is better to take on an approach that prioritises a fast iteration of an update routine.  If a part of your code **`blocks`** the loop() iteration or runs slowly, your robot may miss important information.\n",
        "\n",
        "2. There is a high likelihood that inconsistent functions that **`block`** the iteration of loop() will cause bugs and errors in your working.  For example, for each `blocking` function, you would need to remember to check for new information.  This can be mitigated by adopting a consistent iterative approach that branches from loop().\n",
        "\n",
        "3. Software for a robotic system will get complicated very quickly.  Therefore, it is better to take an approach with a clear `execution flow` that follows a consistent method.  Your code will be more readable if the expected flow of your program always iterates through `loop()`.  This will also make your code easier to extend with more functionality.  \n",
        "\n",
        "In the future, your `loop()` routine might be as readable as the below example, giving a complete general overview of the capability of your robot:\n",
        "\n",
        "```c\n",
        "void loop() {\n",
        "  \n",
        "  updateSensors();\n",
        "  robot_state = updateRobotState();\n",
        "\n",
        "  if( robot_state == LOST ) {\n",
        "    exploreArea();\n",
        "  } else if ( robot_state == ON_LINE ) {\n",
        "    avoidLine();\n",
        "  } else if( robot_state == FOUND_MAGNET ) {\n",
        "    celebrate();\n",
        "  }\n",
        "\n",
        "  updateActuators();\n",
        "}\n",
        "```\n",
        "\n",
        "We can also imagine how to clearly extend the above code to include further robot states and behaviours.  \n",
        "\n",
        "\n",
        "\n"
      ]
    },
    {
      "cell_type": "markdown",
      "metadata": {
        "id": "8pMLn9CD8sVf"
      },
      "source": [
        "<hr><br><br><br><br>"
      ]
    },
    {
      "cell_type": "markdown",
      "metadata": {
        "button": false,
        "run_control": {
          "read_only": false
        },
        "id": "DX7iLQtLmOxa"
      },
      "source": [
        "## Exercise 1: Upload the Blink Example\n",
        "\n",
        "This exercise will ensure that you have the Arduino IDE installed and that you can upload code to your 3Pi+ robot.\n",
        "\n",
        "\n"
      ]
    },
    {
      "cell_type": "markdown",
      "source": [
        "<img src=\"https://raw.githubusercontent.com/paulodowd/SEMTM0042_43/main/Images/exercise.png\" align=\"left\">  Upload the Blink example sketch to the 3Pi+. Open the example by navigating to `File -> Examples -> Blink`.  Remember that you need to:"
      ],
      "metadata": {
        "id": "C2lQlBcbIvxh"
      }
    },
    {
      "cell_type": "markdown",
      "source": [
        "- Plug your 3Pi+ to the computer with an appropriate USB cable.\n",
        "- Tell the IDE which serial port the arduino is connected to. Select:\n",
        "  - `Tools --> Port --> COM X (Arduino Leonardo)`\n",
        "  - The correct port may be given different names on PC, Mac and Linux.\n",
        "- Tell the IDE which type of microcontroller you wish to upload code to. To do this, select:\n",
        "  - `Tools --> Board --> Arduino Leonardo`.\n",
        "- Press the `upload` button on the Arduino IDE.  On Windows, the keyboard shortcut is `CTRL + U`\n",
        "  \n"
      ],
      "metadata": {
        "id": "4EteZalZI17x"
      }
    },
    {
      "cell_type": "markdown",
      "metadata": {
        "id": "R6HyXF5omOxa"
      },
      "source": [
        "\n",
        "<img src=\"https://raw.githubusercontent.com/paulodowd/SEMTM0042_43/main/Images/info.png\" align=\"left\">  It isn't possible to \"stop\" your program.  Once you upload code to the 3Pi+, it will run this code whenever the device is powered up.  Therefore, you should write your code knowing that it will always loop.    You should write your code to to take advantage of this.\n",
        "\n",
        "\n"
      ]
    },
    {
      "cell_type": "markdown",
      "source": [
        "\n",
        "<img src=\"https://raw.githubusercontent.com/paulodowd/SEMTM0042_43/main/Images/info.png\" align=\"left\"> It is also OK to remove power / remove the USB cable from your 3Pi+ when ever you need to.  There is no specific \"shut down\" procedure.  \n"
      ],
      "metadata": {
        "id": "tK-pBqOnJVIJ"
      }
    },
    {
      "cell_type": "markdown",
      "source": [
        "<img src=\"https://raw.githubusercontent.com/paulodowd/SEMTM0042_43/main/Images/info.png\" align=\"left\">  Your 3Pi+ can be powered from two simultaneous sources: **(a)** the 5volts provided via the USB cable **(b)**\n",
        "  the batteries of the 3Pi+, if you use the small button labelled `Power` on the top of the robot. We will investigate this power button in Labsheet 1."
      ],
      "metadata": {
        "id": "1GA8e9DFJawC"
      }
    },
    {
      "cell_type": "markdown",
      "metadata": {
        "id": "PPdy2RjQmOxa"
      },
      "source": [
        "<br><br><br><br>"
      ]
    },
    {
      "cell_type": "markdown",
      "metadata": {
        "button": false,
        "run_control": {
          "read_only": false
        },
        "id": "Dgn6yoHNmOxa"
      },
      "source": [
        "# Variables: Scope\n",
        "\n",
        "<img src=\"https://raw.githubusercontent.com/paulodowd/SEMTM0042_43/main/Images/theory.png\" align=\"left\">  We will modify the Blink example to count the number of times the Light Emitting Diode (LED - the component on the circuit board of the 3Pi+ robot that illuminates orange) has flashed since the 3Pi+ was turned on. This will introduce us to the important concepts of variables, data type and scope.\n",
        "\n",
        "Working data is stored in the memory of your microcontroller. You can use this memory in your program by declaring a **`variable`**.  You can think of a `variable` as a container in memory to store information (typically, numeric values).  For example, we might want to use a `variable` to store the number of times our LED has flashed. To do so, we could change our code to be as follows:\n"
      ]
    },
    {
      "cell_type": "markdown",
      "metadata": {
        "button": false,
        "run_control": {
          "read_only": false
        },
        "id": "cUdIQeP1mOxb"
      },
      "source": [
        "```c\n",
        "int number_of_led_flashes = 0;\n",
        "\n",
        "// the setup function runs once when you press reset or power the board\n",
        "void setup() {\n",
        "  // initialize digital pin LED_BUILTIN as an output.\n",
        "  pinMode(LED_BUILTIN, OUTPUT);\n",
        "}\n",
        "\n",
        "// the loop function runs over and over again forever\n",
        "void loop() {\n",
        "  digitalWrite(LED_BUILTIN, HIGH);   // turn the LED on (HIGH is the voltage level)\n",
        "  delay(1000);                       // wait for a second\n",
        "  digitalWrite(LED_BUILTIN, LOW);    // turn the LED off by making the voltage LOW\n",
        "  delay(1000);                       // wait for a second\n",
        "}\n",
        "```"
      ]
    },
    {
      "cell_type": "markdown",
      "metadata": {
        "button": false,
        "run_control": {
          "read_only": false
        },
        "id": "GCftOihTmOxb"
      },
      "source": [
        "Here, on line one, we have created a variable of **`type`** int, called \"number_of_led_flashes\" and set its value to be 0. Whenever we declare a variable in C++, we must follow this pattern of writing:\n",
        "\n",
        "```c\n",
        "<type>   <name>;\n",
        "```\n",
        "\n",
        "This is because the compiler will need to allocate the memory, and ensure there is enough remaining.  \n",
        "\n",
        "To also assign an initial value, we have used the assignment operator `=`:\n",
        "\n",
        "```c\n",
        "<type> <name> = value;\n",
        "```\n",
        "\n",
        "The type of a variable tells the microcontroller what kind of information will be stored in the variable. Common examples include:\n",
        "     \n",
        " + `int` : Used to store whole numbers. On the 32u4 microprocessor, an int is 16 bits (2 bytes) and represents numbers between -2^15 and 2^15-1 (-32,768 to 32,767). Note that you may also see an unsigned integer, which uses 2 bytes to represent positive numbers only (Giving a range of 0 to 65,535). Note also that if you try to store a fractional number in an integer, the part after the decimal point will be rounded down (IE Both 3.14159 and 3.9999 will be stored as 3).\n",
        "     \n",
        " + `float` : Used to store numbers that have a decimal point. (IE 3.14159). On the 32u4, floats are stored as 4 bytes and can take values ranging from 3.4028235E+38 to -3.4028235E+38. Note that due to the way floats are stored, arithmetic operations on floats may give unexpected results. For example, 6.0 / 3.0 may not be exactly equal to 2.0. Good practice when comparing floating point numbers is not to check whether they are exactly equal (with ==), but to check if the difference between them is below a threshold.  (A great YouTube video on how floating point is implemented is available <a href=\"https://youtu.be/PZRI1IfStY0\">here</a>).\n",
        "     \n",
        " + `bool` : A boolean can be either True (1) or False (0). On the 32u4, a boolean uses 1 byte.\n",
        "     \n",
        " + `byte` : A byte is also used to store whole numbers (like an int), but as it only uses a single byte (8 bits), and can only represent values between 0 and 255.  Note that, a byte doesn't represent negative numbers.\n",
        "     \n",
        " + `char` : A char uses a byte (8-bits), but splits it equally into negative and postive values. The name Char comes from the fact that Chars are often used to represent letters, using the ASCII encoding (details [here](https://www.arduino.cc/en/Reference/ASCIIchart) ).\n",
        "\n",
        "You can find more information on variables as available on Arduino in the <a href=\"https://www.arduino.cc/reference/en/#variables\">Arduino Reference</a>.\n",
        "     \n",
        "\n"
      ]
    },
    {
      "cell_type": "markdown",
      "metadata": {
        "button": false,
        "run_control": {
          "read_only": false
        },
        "id": "fr4C3AGEmOxb"
      },
      "source": [
        "However, the `type` of a variable is not the only thing we must consider when declaring a variable. We must also consider the **`scope`** of the variable.\n",
        "\n",
        "**`Scope`** defines the visibility of a variable to other areas of your program.  If a variable is not visible to a part of a program, it cannot be read or written to.  Importantly, scope also helps the compiler to determine which variables will be persistent or not, allowing for the optimisation of memory usage.  \n",
        "\n",
        "In C/C++, scope is indicated by a pair of curly brackets `{}` - you will see these used when we define functions, if-then-else statements and loops. Note that it is possible to nest scope. For exampe, we might write:\n"
      ]
    },
    {
      "cell_type": "markdown",
      "metadata": {
        "button": false,
        "run_control": {
          "read_only": false
        },
        "id": "m0928cDcmOxb"
      },
      "source": [
        "```c\n",
        "// This are of your program is the global scope\n",
        "// Variables declared here will persist for the\n",
        "// whole duration of your program, and be\n",
        "// visible to all other parts of your program.\n",
        "\n",
        "void setup() {\n",
        "    \n",
        "    // This is the scope local to the setup function\n",
        "    \n",
        "    if (condition) {\n",
        "        // This is the scope local to the if-then-else statement of the setup function\n",
        "    }\n",
        "    \n",
        "    // Here we have returned to the scope local to the setup function\n",
        "}\n",
        "\n",
        "// Now we are back to global scope\n",
        "\n",
        "void loop() {\n",
        "\n",
        "    // This is the scope local to the loop function\n",
        "\n",
        "    if (condition) {\n",
        "        // This is the scope local to the if-then-else statement of the loop function\n",
        "    }\n",
        "    \n",
        "    // Here we have returned to the scope local to the loop function\n",
        "}\n",
        "\n",
        "// Now we are back to global scope again\n",
        "```"
      ]
    },
    {
      "cell_type": "markdown",
      "metadata": {
        "button": false,
        "run_control": {
          "read_only": false
        },
        "id": "6NjQvv5ymOxb"
      },
      "source": [
        "When we declare a variable it can ONLY be used in the scope it is declared in and LOWER scopes. We can NOT use a variable from a lower scope in a higher scope. For example, if we write:\n"
      ]
    },
    {
      "cell_type": "markdown",
      "metadata": {
        "button": false,
        "run_control": {
          "read_only": false
        },
        "id": "2VmZsSz8mOxc"
      },
      "source": [
        "```c\n",
        "\n",
        "int a; //This is a global variable\n",
        "\n",
        "void setup() {\n",
        "    int b; //This is a local variable\n",
        "}\n",
        "\n",
        "void loop() {\n",
        "    int c; // This is a local variable\n",
        "}\n",
        "\n",
        "```"
      ]
    },
    {
      "cell_type": "markdown",
      "metadata": {
        "button": false,
        "run_control": {
          "read_only": false
        },
        "id": "2h_KhUnfmOxc"
      },
      "source": [
        "Then we can use the variable a in both the setup and the loop functions. We can use the variable b ONLY in the `setup()` function and variable c ONLY in the `loop()` function. If we try to use a variable in a scope in which it does not exist, then we will get a compile error. For example, if I was to then write:\n",
        "\n"
      ]
    },
    {
      "cell_type": "markdown",
      "metadata": {
        "button": false,
        "run_control": {
          "read_only": false
        },
        "id": "_daQP2xCmOxc"
      },
      "source": [
        "```c\n",
        "int a; // \"a\" is a global variable\n",
        "\n",
        "void setup() {\n",
        "    int b; // \"b\" is a local setup\n",
        "}\n",
        "\n",
        "void loop() {\n",
        "    int c;  // \"c\" is local to loop\n",
        "    b = 1;  // error! \"b\" isn't local (visible) to loop\n",
        "}\n",
        "```"
      ]
    },
    {
      "cell_type": "markdown",
      "metadata": {
        "button": false,
        "run_control": {
          "read_only": false
        },
        "id": "MU0qDSMJmOxc"
      },
      "source": [
        "when I compile this, I get the error:"
      ]
    },
    {
      "cell_type": "markdown",
      "metadata": {
        "button": false,
        "run_control": {
          "read_only": false
        },
        "id": "0DzOFVE2mOxc"
      },
      "source": [
        "`\\\\ads.bris.ac.uk\\...\\Desktop\\test\\test.ino: In function 'void loop()':`\n",
        "\n",
        "`test:9: error: 'b' was not declared in this scope`\n",
        "\n",
        "   `b = 1;`\n",
        "\n",
        "   `^`\n",
        "\n",
        "`exit status 1`\n",
        "`'b' was not declared in this scope`"
      ]
    },
    {
      "cell_type": "markdown",
      "metadata": {
        "button": false,
        "run_control": {
          "read_only": false
        },
        "id": "nmSUTzeAmOxc"
      },
      "source": [
        "Compile errors like this often look scary (and can be frustrating!), but in fact this error gives us a lot of information. The first line tells us the name of the file where the error was found (`test.ino`) AND the function (`void loop()`). The next line tells us the exact line of code where the problem is (`Line 9`) and the specific error (`'b' was not declared in this scope`). The next line shows us the line which causes the problem (`b=1;`). The final line tells us that the exist status of the compiler was 1 (Which means error) and repeats the specific error.\n",
        "\n",
        "**Note:** When you get a lot of errors from the Arduino IDE, a good rule of thumb is to scroll up the list of errors to the first error encountered.  Fixing this error first can then resolve all the following errors.\n",
        "\n",
        "A final example of scope is provided below:\n",
        "\n",
        "```c\n",
        "int a; // \"a\" is a global variable\n",
        "\n",
        "void setup() {\n",
        "    int b; // \"b\" is a local setup\n",
        "}\n",
        "\n",
        "void loop() {\n",
        "    int c;  // \"c\" is local to loop\n",
        "    \n",
        "    c = 1;\n",
        "\n",
        "    if( c == 1 ) {\n",
        "        int d = 2;\n",
        "    }\n",
        "\n",
        "    // This will cause an error, because\n",
        "    // d was in a LOWER scope, and so no\n",
        "    // longer exists in the HIGHER scope.\n",
        "    d = 0;\n",
        "}\n",
        "\n",
        "\n",
        "```\n"
      ]
    },
    {
      "cell_type": "markdown",
      "metadata": {
        "id": "pQnH1HZemOxc"
      },
      "source": [
        "# Variables: Persistence and Undefined Behaviour\n",
        "\n",
        "\n",
        "\n",
        "```c\n",
        "int a; // \"a\" is a global variable\n",
        "\n",
        "void setup() {\n",
        "    int b; // \"b\" is a local setup\n",
        "    a = 0;\n",
        "    b = 0;\n",
        "}\n",
        "\n",
        "void loop() {\n",
        "    int c;  // \"c\" is local to loop\n",
        "    \n",
        "    c = c + 1;\n",
        "    a = a + 1;\n",
        "}\n",
        "```\n",
        "\n",
        "In the above example, if the Arduino was powered up and `loop()` ran 10 times, what would be the values of the variables:\n",
        "- `a`?\n",
        "- `b`?\n",
        "- `c`?\n",
        "\n",
        "**Undefined Behaviour:** The first question you might have is, what value does `c` begin with?  `c` is declared in `loop()` but not given an intial value.  The code continues to increment the value of `c` in the line ` c = c + 1`.  In the above code we assume that a declared variable initialises to a value of `0` - this is correct within Arduino, but is it true for all microcontrollers?  Making assumptions like this is bad practice.  It is much better to be explicit and to set initial values.  Try to be aware of when your code makes assumptions like this which may lead to undefined behaviour.  \n",
        "\n",
        "**Persistence:** In the above example `a` is set as a global variable and so it will retain it's value throughout the execution of your program.  In contrast, `b` and `c` are local variables, which means they will only retain their value during the execution of their scope, `setup()` and `loop()` respectively.  Another way to think of this, is that the global scope will always be in execution, whilst local scopes are temporary.\n",
        "\n",
        "As such, b is declared and initialised within `setup()` to a value of 0, and then deleted when `setup()` finishes, moving on to `loop()`.  In contrast, the global variable `a` is set to an initial value of 0 within `setup()`, and even though `setup()` closes, `a` will retain it's value.\n",
        "\n",
        "Each time `loop()` runs, variable `c` is newly created and has its value initialised to 0.  Therefore, the result of `c = c + 1` will equal 1 every time `loop()` is run.  In contrast, `a` is declared in the global scope and retains it's value.  This means that for 10 runs of `loop()`, `a` will hold the value 10.\n",
        "\n"
      ]
    },
    {
      "cell_type": "markdown",
      "metadata": {
        "id": "2vi2Hl2a8n4W"
      },
      "source": [
        "<hr><br><br><br><br>"
      ]
    },
    {
      "cell_type": "markdown",
      "metadata": {
        "id": "5FR3S2AemOxc"
      },
      "source": [
        "## Exercise 2: Using Variables\n",
        "\n",
        "<img src=\"https://raw.githubusercontent.com/paulodowd/SEMTM0042_43/main/Images/exercise.png\" align=\"left\"> Let's modify the `Blink` example to learn how to use variables.\n",
        "\n",
        "\n"
      ]
    },
    {
      "cell_type": "markdown",
      "source": [
        "\n",
        "1. Add code to the main loop of the Blink example which stops the LED from flashing after 10 flashes.  To achieve this you will need the following parts:\n",
        "  - a variable to keep track of the value being counted\n",
        "  - an `if()` statement to decide what to do if the value being counted is less than (`<`) or more than (`>`) 10.\n",
        "\n"
      ],
      "metadata": {
        "id": "DFX7YHR4LQJ6"
      }
    },
    {
      "cell_type": "markdown",
      "source": [
        "<img src=\"https://raw.githubusercontent.com/paulodowd/SEMTM0042_43/main/Images/info.png\" align=\"left\"> **Information:** Remember that **where** you create an instance of a variable will determine whether it is a **temporary** variable (it will not \"remember\" it's value), or if it is **persistent** (it will remember it's value).  If you create a variable within `loop()` it is temporary. If you create a variable at the top of your program it is **global** and persistent."
      ],
      "metadata": {
        "id": "rwBOkZc0Lyi7"
      }
    },
    {
      "cell_type": "markdown",
      "source": [
        "<img src=\"https://raw.githubusercontent.com/paulodowd/SEMTM0042_43/main/Images/observation.png\" align=\"left\"> **Observations:** Take some time to change the values within the `Blink` example.  For example, what happens if you change the value in the `delay()` function?  What happens if you change your code to count down?  It is very common to open an example, check that it works, and then check **how** it works by changing parts an observing the effect."
      ],
      "metadata": {
        "id": "toI_EtQQMJKr"
      }
    },
    {
      "cell_type": "markdown",
      "source": [
        "<img src=\"https://raw.githubusercontent.com/paulodowd/SEMTM0042_43/main/Images/tick.png\" align=\"left\"> Whilst this exercise might feel very basic, it would be good to remember that the LED is extremely useful to help you understand what the robot is doing (debugging).  For example, you could illuminate the orange LED when the robot detects a black line.  It is very quick to activate and deactivate the LED, either `digitalWrite(13, HIGH);` or `digitalWrite(13, LOW);`.  In the future, if you're not sure what your program is doing, try using the LED to investigate."
      ],
      "metadata": {
        "id": "XlfZL8wHfkTo"
      }
    },
    {
      "cell_type": "markdown",
      "metadata": {
        "id": "40Cc1VHg83c2"
      },
      "source": [
        "<hr><br><br><br><br>"
      ]
    },
    {
      "cell_type": "markdown",
      "metadata": {
        "button": false,
        "run_control": {
          "read_only": false
        },
        "id": "fQCkLKEkmOxe"
      },
      "source": [
        "# Serial Communication: Your Primary Tool for Debugging\n",
        "\n",
        "In the above exercise we modified the `Blink` example to flash the LED 10 times.  If you had some difficultly with that exercise, it may be because you cannot \"see inside the robot\".  Therefore, we write some code in the Arduino IDE, but we are not able to then watch the computation happen step by step. Instead, we have to upload the code to the robot, and watch what happens.  If something goes wrong, we are in a position of trying to work out what happened, like a detective.\n",
        "\n",
        "It is possible to send information back to your computer whilst the 3Pi+ robot is operating.  To do this, we use built-in calls to `Serial`.  \n"
      ]
    },
    {
      "cell_type": "markdown",
      "metadata": {
        "button": false,
        "run_control": {
          "read_only": false
        },
        "id": "HywNPY8jmOxe"
      },
      "source": [
        "Serial communication allows information to be sent back to the computer you are working on via the USB cable.  Importantly, the USB cable needs to remain plugged in to use Serial.  Serial is good tool for debuging and devloping your code because you can use it to allow your robot to send back messages, such as the current value of variables you are using.  \n",
        "\n",
        "For a more in-depth look at Serial, you may want to look at this <a href=\"https://learn.sparkfun.com/tutorials/serial-communication/all#serial-intro\">Spark Fun article</a>.   \n",
        "\n",
        "When we use Serial, we are actually using a `class` of code, which has some special features.  You will notice that when we use Serial there is a pattern.  Here are some Serial commands:\n",
        "```c\n",
        "void setup() {\n",
        "  \n",
        "  Serial.begin(9600);\n",
        "}\n",
        "\n",
        "void loop() {\n",
        "  \n",
        "  int my_variable = 5;\n",
        "  Serial.print(\"Hello: \");\n",
        "  Serial.print( my_variable );\n",
        "  Serial.print(\"\\n\");\n",
        "\n",
        "  delay(100);\n",
        "}\n",
        "```\n",
        "\n",
        "In the above, we are making a function call that is suffixed to a `.` (dot) operator of the class `Serial`.  Whilst this looks different, perhaps scary, it otherwise behaves in the same way to the built-in functions we have used previously (such as `digitalWrite()`, `analogWrite()`.  \n",
        "\n",
        "So here, reading right-to-left, we are simply asking the 3Pi+ to run the function (`print()`) inside (`.`) the `Serial` class - `Serial.print()`.  If you want to know what other functions a built-in class has available, you can review the <a href=\"https://www.arduino.cc/reference/en/language/functions/communication/serial/\">reference</a> which also has examples of how they work.\n",
        "\n",
        "To use the Serial connection, we must first initialise (\"open\") the connection back to your computer.  In the above code extract, we see this with the line `Serial.begin(9600)`.  We have to set the baud rate (Number of bits / second) the connection should use (here, 9600 was used). You should make this call within the setup() function, so that it happens only once when the robot is powered on.  \n",
        "\n",
        "We then see in the above code extract different uses of `Serial.print()`.\n",
        "- `Serial.print(\"Hello: \");` You can send text (referred to as \"Strings\") back to your laptop.\n",
        "- `Serial.print( my_variable );` If you place a variable within `Serial.print()`, it will send back the current **value** stored in that variable.\n",
        "- `Serial.print( \"\\n\" );` this line sends a special character, called `newline` (`\\n`).  This will ensure that each time your `loop()` function runs, your data will appear on a new line.  \n",
        "\n",
        "<p align=\"center\">\n",
        "<img src=\"https://github.com/paulodowd/SEMTM0042_43/blob/main/Images/SerialMonitor.png?raw=true\">\n",
        "</p>\n",
        "\n",
        "We can then open the `Serial Monitor` to view the information being received from the 3Pi+ robot.  You can do this by navigating to `Tools -> Serial Monitor`.  "
      ]
    },
    {
      "cell_type": "markdown",
      "source": [
        "<img src=\"https://raw.githubusercontent.com/paulodowd/SEMTM0042_43/main/Images/info.png\" align=\"left\"> **Information:** A common problem is forgetting to add a `newline` (`\\n`) character.  You can use the command `Serial.println()` that will automatically insert a newline for you (note, extra **ln** on the end of the function name).  Without a newline, the Serial Monitor may not display anything being received.  It is useful to not always use a newline, such as if you wanted to report multiple variables, like `3.00, -4.00, 5.00`.  Here, you would print a variable, a comma `\",\"`,  a variable, a comma `\",\"`,  a variable, a newline `\"\\n\"`, all in seperate `Serial.print()` calls.  If you produce these `comma seperated values` (and nothing else, no text), you can use the `Serial Plotter` (Tools -> Serial Plotter) to produce a graph over time of your variables, as shown below:\n",
        "<p align=\"center\">\n",
        "<img src=\"https://github.com/paulodowd/SEMTM0042_43/blob/main/Images/SerialPlotter.png?raw=true\">\n",
        "</p>"
      ],
      "metadata": {
        "id": "0w9w-osijzMQ"
      }
    },
    {
      "cell_type": "markdown",
      "source": [
        "<img src=\"https://raw.githubusercontent.com/paulodowd/SEMTM0042_43/main/Images/info.png\" align=\"left\"> **Information:** A common problem is that the 3Pi+ robot \"goes crazy\" if you pull out the USB cable whilst it is operating.  This is a known problem, but with an unknown cause.  In the future, if this is an issue for you, please review the **Troubleshooting Labsheet** which has a solution."
      ],
      "metadata": {
        "id": "eLIxjsllk0rg"
      }
    },
    {
      "cell_type": "markdown",
      "metadata": {
        "button": false,
        "run_control": {
          "read_only": false
        },
        "id": "U-pPtagKmOxf"
      },
      "source": [
        "\n",
        "\n",
        "\n",
        "## Exercise 3: Serial Monitor\n",
        "\n",
        "\n",
        "<img src=\"https://raw.githubusercontent.com/paulodowd/SEMTM0042_43/main/Images/exercise.png\" align=\"left\">  Using the example of `Serial.print()` operations in combination with your work for the previous exercise of counting the number of LED flashes - use the Serial Monitor to inspect the value of your variables.  \n",
        "    \n",
        "\n"
      ]
    },
    {
      "cell_type": "markdown",
      "source": [
        "<hr><br><br><br><br>"
      ],
      "metadata": {
        "id": "TBwTpePcfYqA"
      }
    },
    {
      "cell_type": "markdown",
      "metadata": {
        "button": false,
        "run_control": {
          "read_only": false
        },
        "id": "2JXfzjnBmOxd"
      },
      "source": [
        "# Functions\n",
        "\n",
        "<img src=\"https://raw.githubusercontent.com/paulodowd/SEMTM0042_43/main/Images/theory.png\" align=\"left\">  In the previous two exercises, we used the word **`function`** multiple times without really defining what it means. In essence, a function is a way of organising code by separating it into blocks of code which together perform a single task. We have already seen two functions - `setup()` and `loop()`. We can define our own functions by code to a specific template, outlined in abstract below:"
      ]
    },
    {
      "cell_type": "markdown",
      "metadata": {
        "button": false,
        "run_control": {
          "read_only": false
        },
        "id": "SY9hyQ5ZmOxd"
      },
      "source": [
        "```c\n",
        "return_type functionName( variable_type variable_name, variable_type variable_name ) {\n",
        "    // Code goes here\n",
        "    // ...\n",
        "    // ...\n",
        "        \n",
        "        \n",
        "    // This line ends this function and passes the value\n",
        "    // back to where the function was called.\n",
        "    // If the return_type of your function is void, you can\n",
        "    // omit return, or just use return;\n",
        "    return value;\n",
        "}\n",
        "```"
      ]
    },
    {
      "cell_type": "markdown",
      "metadata": {
        "button": false,
        "run_control": {
          "read_only": false
        },
        "id": "Uhxy_6PdmOxd"
      },
      "source": [
        "In the above code extract, if we observe the bottom line, we can see the function is encapsulated with curly-braces `{}`.  \n",
        "- The area within the curly-braces defines the code area of the function.  \n",
        "- Code outside of these curly-braces would not be within the function, and may even cause an error.  \n",
        "- A common error is to have too many or too few curly-braces.  Curly-braces must always exist in matching-pairs.\n",
        "- It helps to indent your code with each subsequent use of curly-braces.\n",
        "\n",
        "Just prior to the opening curly-brace `{` we have the function name definition.  The function name is provided as:\n",
        "\n",
        "`return_type functionName( variable_type variable_name, variable_type variable_name )`\n",
        "\n",
        "- `return_type` should either be `void` to indicate that the function does not provide a result, or `return_type` should take a variable data type, such as `float`, `int`, etc.\n",
        "- This example function has 2 **`arguments`** provided.  \n",
        "  - These are input information to the function, provided when the function is called (executed, from elsewhere in the program).  \n",
        "  - An argument requires similar information to a variable declaration - the function needs to know the data type, and a name for the argument to be referred to.  \n",
        "  - A function can have no arguments, or many arguments.\n",
        "\n",
        "We could write a function called `blink_leds` which turns the LEDs on and then off again. To do so, we would first write:"
      ]
    },
    {
      "cell_type": "markdown",
      "metadata": {
        "button": false,
        "run_control": {
          "read_only": false
        },
        "id": "no7W5HyFmOxd"
      },
      "source": [
        "```c\n",
        "void flash_leds () {\n",
        "  digitalWrite(LED_BUILTIN, HIGH);   // turn the LED on (HIGH is the voltage level)\n",
        "  delay(1000);                       // wait for 1 second (i.e 1000 milli seconds)\n",
        "  digitalWrite(LED_BUILTIN, LOW);    // turn the LED off by making the voltage LOW\n",
        "  delay(1000);\n",
        "}\n",
        "```"
      ]
    },
    {
      "cell_type": "markdown",
      "metadata": {
        "button": false,
        "run_control": {
          "read_only": false
        },
        "id": "EXdtXWUxmOxd"
      },
      "source": [
        "Note that we have used a return data type `void` - this means that our function does not return a value.  The example below shows how this new function could be called (executed):\n"
      ]
    },
    {
      "cell_type": "markdown",
      "metadata": {
        "button": false,
        "run_control": {
          "read_only": false
        },
        "id": "cYypfWMhmOxd"
      },
      "source": [
        "```c\n",
        "// A function to turn the standard debug led (pin 13)\n",
        "// on and off, waiting 1 second between.\n",
        "void flash_leds () {\n",
        "    \n",
        "  digitalWrite(LED_BUILTIN, HIGH);   // turn the LED on (HIGH is the voltage level)\n",
        "  delay(1000);                       // wait for a second\n",
        "  digitalWrite(LED_BUILTIN, LOW);    // turn the LED off by making the voltage LOW\n",
        "  delay(1000);\n",
        "    \n",
        "}\n",
        "\n",
        "// the setup function runs once when you press reset or power the board\n",
        "void setup() {\n",
        "    \n",
        "  // initialize digital pin LED_BUILTIN as an output.\n",
        "  pinMode(LED_BUILTIN, OUTPUT);\n",
        "    \n",
        "}\n",
        "\n",
        "// the loop function runs over and over again forever\n",
        "void loop() {\n",
        "    \n",
        "  flash_leds();                     // calling our bespoke function\n",
        "    \n",
        "}\n",
        "```"
      ]
    },
    {
      "cell_type": "markdown",
      "metadata": {
        "button": false,
        "run_control": {
          "read_only": false
        },
        "id": "UX1NoQYymOxd"
      },
      "source": [
        "As we discussed above, we can also pass information into a function by giving it some input variables. For example, we might want to make a variable for controlling the rate at which the LED flashes. To do so, we would change our flash_led function as follows:"
      ]
    },
    {
      "cell_type": "markdown",
      "metadata": {
        "button": false,
        "run_control": {
          "read_only": false
        },
        "id": "9OAv-whWmOxd"
      },
      "source": [
        "```c\n",
        "void flash_leds( int delay_ms ) {\n",
        "    \n",
        "  digitalWrite(LED_BUILTIN, HIGH);   // turn the LED on (HIGH is the voltage level)\n",
        "  delay( delay_ms );                       // wait for a second\n",
        "  digitalWrite(LED_BUILTIN, LOW);    // turn the LED off by making the voltage LOW\n",
        "  delay( delay_ms );\n",
        "    \n",
        "}\n",
        "```"
      ]
    },
    {
      "cell_type": "markdown",
      "metadata": {
        "button": false,
        "run_control": {
          "read_only": false
        },
        "id": "5eUsLWQnmOxe"
      },
      "source": [
        "We would then also need to adjust the **`call`** to the function, because the function now expects to receive an argument:\n",
        "\n",
        "```c\n",
        "\n",
        "void loop() {\n",
        "\n",
        "  flash_leds( 500 );\n",
        "\n",
        "}\n",
        "```\n",
        "\n",
        "As well as passing information into a function, we may also want to get a result back from a function. To do this, we must set the return type to match the kind of data we want to receive, and then end our function with the line `return (value)`.\n",
        "\n",
        "For example, we might want to write a function which calculates the sum of two numbers. To do so, we would first need to decide what type of numbers we want to add (ints or floats). If we assume we only want to add integers, then we could write:"
      ]
    },
    {
      "cell_type": "markdown",
      "metadata": {
        "button": false,
        "run_control": {
          "read_only": false
        },
        "id": "3h7RUZ0nmOxe"
      },
      "source": [
        "```c\n",
        "\n",
        "int add_two_numbers(int number1, int number2) {\n",
        "\n",
        "    int result;\n",
        "    result = number1 + number2;\n",
        "    \n",
        "    return result;\n",
        "}\n",
        "\n",
        "```"
      ]
    },
    {
      "cell_type": "markdown",
      "metadata": {
        "button": false,
        "run_control": {
          "read_only": false
        },
        "id": "Pi_ZR4CKmOxe"
      },
      "source": [
        "We would then adjust our function call to utilse the assignment operator to catch the return value:"
      ]
    },
    {
      "cell_type": "markdown",
      "metadata": {
        "button": false,
        "run_control": {
          "read_only": false
        },
        "id": "8xQ0ZpTrmOxe"
      },
      "source": [
        "```c\n",
        "\n",
        "void loop() {\n",
        "\n",
        "  int a;  // create an integer variable named \"a\"\n",
        "          // where we will store our result.\n",
        "\n",
        "  a = add_two_numbers(1, 2);  // Call our function.  We\n",
        "                              // Pass in two values, 1 , 2.\n",
        "                              // We declared that the function\n",
        "                              // returns an 'int', which we store\n",
        "                              // into \"a\"\n",
        "}\n",
        "\n",
        "```"
      ]
    },
    {
      "cell_type": "markdown",
      "metadata": {
        "button": false,
        "run_control": {
          "read_only": false
        },
        "id": "-gTXStetmOxe"
      },
      "source": [
        "The variable \"a\" will store the value 3."
      ]
    },
    {
      "cell_type": "markdown",
      "source": [
        "<img src=\"https://raw.githubusercontent.com/paulodowd/SEMTM0042_43/main/Images/info.png\" align=\"left\"> **Information:** A very common question is _\"how can I return two values, or an array of values, from a function?\"_.  There is a long answer that falls outside the scope of the teaching materials for this unit of study.  Feel free to ask this question for discussion with a member of the teaching staff.  \n",
        "\n",
        "In general, if your function needs to return more than 1 variable value, it is recommended that you instead create **global variables** that you function can work with.  This way, your function is still providing an encapsulated function (i.e., you can call it in your program multiple times to do the same work, rather than copy-and-paste the code into multiple places in your program).  You will find this approach is adopted when you work through the next labsheets."
      ],
      "metadata": {
        "id": "NPbbHZdLM6aL"
      }
    },
    {
      "cell_type": "markdown",
      "metadata": {
        "id": "8KgdtvLr8wHm"
      },
      "source": [
        "<hr><br><br><br><br>"
      ]
    },
    {
      "cell_type": "markdown",
      "metadata": {
        "button": false,
        "run_control": {
          "read_only": false
        },
        "id": "79EuxSh9mOxe"
      },
      "source": [
        "## Exercise 4: Creating Functions and Using Existing Functions\n",
        "\n",
        "In this exercise we are going to create our own functions to do some work for us.  By encapsulating (\"collecting together\") code within a function, we avoid copy-and-pasting the same code in multiple places within our program.  If you do copy-and-paste code around, you are likely to soon have a bug where you forgot to change something in all the locations you copied your code. This a very easy mistake to make, and **very difficult to spot** (because it looks like \"correct\" code)!  Therefore, once you have developed and tested some code, it is good practice to see if it can go into a function.\n",
        "\n",
        "We are also going to use some **built-in** functions.   As you learn to use the 3Pi+ robot, the most common built in functions you will use are:\n",
        "\n",
        "- `pinMode()`\n",
        "- `digitalWrite()`\n",
        "- `digitalRead()`\n",
        "- `analogWrite()`\n",
        "- `millis()`\n",
        "- `micros()`\n",
        "- `delay()`\n",
        "- `delayMicroseconds()`\n",
        "\n",
        "You can review all the built-in functions available to use to operate the Arduino (in our case, the 3Pi+ robot) <a href=\"https://docs.arduino.cc/language-reference/\">here </a>. (https://docs.arduino.cc/language-reference/).  Each function usually has an example of how it is used.  It is worth reviewing the above functions and noticing:\n",
        "- What they do.\n",
        "- What **arguments** (inputs) they take.\n",
        "\n",
        "\n",
        "\n",
        "\n",
        "\n"
      ]
    },
    {
      "cell_type": "markdown",
      "source": [
        "<img src=\"https://raw.githubusercontent.com/paulodowd/SEMTM0042_43/main/Images/exercise.png\" align=\"left\">  For the rest of these labsheets, you will find it useful to work from the template code provided for you.  Follow the next steps:\n",
        "\n"
      ],
      "metadata": {
        "id": "WhIR8xDMPWzE"
      }
    },
    {
      "cell_type": "markdown",
      "source": [
        "1. Download the **Code Stub** (example code, but incomplete, used for these labsheets) from Github <a href=\"https://github.com/paulodowd/SEMTM0042_43/tree/main/3Pi_CodeStub\">here</a>.\n",
        "2. Unzip this archive into your Arduino Sketch folder, or where you will be saving all your work for this unit of study.  \n",
        "3. Rename the folder from `3Pi_CodeStub` to something more useful, such as `Labsheet0` (where it will become a copy of your work for this labsheet).\n",
        "4. You must also rename the `.ino` file.  This will currently be called `3Pi_CodeStub`, the same as the folder was called previously.  Change this file to have the same name as your folder (i.e., following this labsheet, `Labsheet0`).\n",
        "5. Open the file with Arduino.\n",
        "6. Upload the code to your 3Pi+ before you make any modifications.\n"
      ],
      "metadata": {
        "id": "q0oQ0z9CTMzN"
      }
    },
    {
      "cell_type": "markdown",
      "source": [
        "<img src=\"https://raw.githubusercontent.com/paulodowd/SEMTM0042_43/main/Images/exercise.png\" align=\"left\">  You should be able to upload the Code Stub to your 3Pi+ robot, and you will hear that it makes **a very short beep** at a regular interval.  Review the structure of the Code Stub.  In particular, pay attention to what happens in `setup()` - this code sequence happens just once, when the robot is turned on.  Next, review the code sequence in `loop()` - this code will happen again and again.\n",
        "\n",
        "For this exercise, we will write a function to encapsulate the following lines of code:\n",
        "```c\n",
        "  // Used for Labsheet 0\n",
        "  analogWrite( BUZZER_PIN, 120 ); // on\n",
        "  delay(5);\n",
        "  analogWrite( BUZZER_PIN, 0 ); // off\n",
        "```\n",
        "\n",
        "We want to create a function that takes 1 argument: How long to beep for in milliseconds (duration)."
      ],
      "metadata": {
        "id": "GkDNc8kSTNkd"
      }
    },
    {
      "cell_type": "markdown",
      "source": [
        "1. Create a new function, for example `beep()`.\n",
        "2. You can use the return type `void`, which means that this function will not return (pass back) any value.\n",
        "3. Give your function 1 arguments.  \n",
        "  - These go within the smooth parenthesis `(` and `)`\n",
        "  - The argument needs a data type.  You can review the available datatypes <a href=\"https://docs.arduino.cc/language-reference/#variables\">here</a>.  \n",
        "    - We expect both the duration argument to be a whole number and to be positive.  So let's use the datatype `unsigned long`.  This means a number between 0 and 4294967295 (unsigned = no negative numbers, long = no decimal places).\n",
        "  - Give your argument a helpful name, such as `duration_ms`.  \n",
        "4. Modify the `delay()` function to instead use your duration argument.\n",
        "5. Call your new function from within `loop()`.  \n",
        "  - Note that, now you can remove the original code extract above from `loop()`."
      ],
      "metadata": {
        "id": "SpY7P1RnUMsn"
      }
    },
    {
      "cell_type": "markdown",
      "source": [
        "<img src=\"https://raw.githubusercontent.com/paulodowd/SEMTM0042_43/main/Images/observation.png\" align=\"left\"> **Observations:** It is likely that even if you have told your function to beep for some duration (1000ms, for example), you cannot tell because it seems to beep continuously and without stopping.  This is because `loop()` is being called iteratively, so your robot is beeping for the duration times, and then immediately again for the duration, etc.  Often, your robot will do exactly what you tell it to, the code will be correct, but you will believe your robot is doing something wrong.  It is almost always the programmer who has it wrong.  What simple modification could be made to hear when the beep has finished?\n"
      ],
      "metadata": {
        "id": "qdZsbu0HXQg3"
      }
    },
    {
      "cell_type": "markdown",
      "metadata": {
        "id": "lwPuaqQCmOxe"
      },
      "source": [
        "<hr><br><br><br><br>\n"
      ]
    },
    {
      "cell_type": "markdown",
      "source": [
        "# Non-Blocking Code\n",
        "\n",
        "One of the most important concepts you should look to learn and master early is the idea of **non-blocking code**.  In the last exercise (making the buzzer beep) we used `delay()`.  This has the effect of stopping your robot (microcontroller) from doing any useful work - instead, it has to wait for delay to finish.  Code that \"needs to wait to finish\" is called **blocking code** - it blocks up the computer processor.  \n",
        "\n",
        "Therefore, if you used a long delay, like `delay(5000);`, your robot would not be able to:\n",
        "- read any sensors for 5 seconds\n",
        "- change the motor power for 5 seconds\n",
        "- update any system variables (such as an estimate of position) for 5 seconds.\n",
        "\n",
        "In robotics, we want to be able to perform a complete system update as **quickly** and as **reliably** as possible.  \n",
        "- **Quickly**: If some computational work will take a long time to do, we want the program to do the work in small pieces, that it comes back to progress again and again.\n",
        "- **Reliably**: We want the overall program to be as predictable and as consistent as possible. Therefore, we don't want one function to occasionally take up lots of time, and at other times for the system to be quick.\n",
        "\n",
        "If we cannot do this, we will have the issues of:\n",
        "- An unpredictable system is difficult to debug and understand.  You will not be sure why the robot is doing A, B, or sometimes C.\n",
        "- An unreliable system will mean that often times your robot will not receive the information it needs from the sensors, or it will not respond quickly enough with it's actuators (motors).  Therefore, the robot will look like it is making bad decisions or \"being stupid\"."
      ],
      "metadata": {
        "id": "l0DdcotnX9k_"
      }
    },
    {
      "cell_type": "markdown",
      "source": [
        "<hr><br><br><br><br>\n"
      ],
      "metadata": {
        "id": "64FFbF-NwdmJ"
      }
    },
    {
      "cell_type": "markdown",
      "source": [
        "## Exercise 5: A Non-Blocking Beep Function\n",
        "\n",
        "<img src=\"https://raw.githubusercontent.com/paulodowd/SEMTM0042_43/main/Images/exercise.png\" align=\"left\">   We will now update the previous exercise to produce a beep function that is **non-blocking**.  However, we want to **not use delay()**.  We will use the same general idea: we want to be able to make a beep for a specified duration in milliseconds.  To do this, we will actually need two functions:\n",
        "<br><br>\n",
        "- One function to initially set the beep to begin, and using a requested duration, work out when the beep should stop (called once).\n",
        "- A second function (called iteratively) to check if the beep should stop, by checking if the current count in milliseconds is now greater than the time we calculated as the stopping point.\n",
        "\n",
        "We expect that a **non-blocking** function can be called on every iteration of `loop()`, but **most often it will do (almost) no work**, and so take up virtually no computational time.  Therefore, we will call the function to allow it to check if it should do something by itself.\n",
        "\n",
        "We will need our beep function to set a time in the future of when it should stop.  To do this, we will create a global variable to store a measure of time.  \n",
        "\n",
        "When the 3Pi+ (Arduino) is powered on, it begins counting the number of milliseconds that have passed.  This count is stored by the Arduino in a variable of type `unsigned long` (the same type we used in the previous exercise). Therefore, the Arduino can count up to 4,294,967,295 milliseconds, or approximately 50 days.  After being on for 50 days, the count will reset to zero.  However, it is more likely that your 3Pi+ will run out of battery power before 50 days.\n",
        "\n",
        "To ask the Arduino how many milliseconds have passed, we call the function `millis()` (<a href=\"https://www.arduino.cc/reference/en/language/functions/time/millis/\">reference page</a>), which returns the count as an `unsigned long` datatype.\n",
        "\n",
        "\n"
      ],
      "metadata": {
        "id": "CIThO0OZaFPh"
      }
    },
    {
      "cell_type": "markdown",
      "source": [
        "<img src=\"https://raw.githubusercontent.com/paulodowd/SEMTM0042_43/main/Images/info.png\" align=\"left\"> **Information:** In this exercise, try to realise that the robot is using the a count of time (in milliseconds) since it was powered on, not the time of day as we think of it.  It might help to draw a timeline, and then to annotate what happens when `setBeep()` and `checkBeep()` are called.  You can sketch out what would happen if `setBeep()` is called multiple times."
      ],
      "metadata": {
        "id": "EZoH6IFt9xa8"
      }
    },
    {
      "cell_type": "markdown",
      "source": [
        "1. Create a **global variable** of type `unsigned long` at the top of your program that we will use to store the `beep stop time`.  Give this variable a useful name.\n",
        "2. Create a function that we will call to set a beep with a requested duration.  Something like, `void setBeep( unsigned long duration_ms) {}`.\n",
        "3. In this function you just created (i.e. `void setBeep( unsigned long duration_ms) {`):\n",
        "  - activate the buzzer using `analogWrite()`\n",
        "  - using a call to `millis()`, add the requested `duration_ms` to the results of `millis()`\n",
        "  - save the result into your global variable for the `beep stop time`.\n",
        "4. Create another new function that we will call iteratively to check if the beep should be stopped.  Give this function a useful name, something like `checkBeep()`.\n",
        "5. Inside your `checkBeep` function:\n",
        "  - make a call to `millis()`, and check if the returned value is greater than the calculated time you recorded in your **global** `beep stop time` variable.\n",
        "    - If the comparison equates to `true`, call `analogWrite()` to stop the buzzer.\n",
        "    - If the comparison equates to `false`, do nothing.\n",
        "6. Update your sketch so it resembles the following, where you have completed the above tasks:\n",
        "\n",
        "```c\n",
        "// Create your stop beep variable in this \"global\" space.\n",
        "unsigned long ?????;\n",
        "\n",
        "void setup() {\n",
        "\n",
        "  // Activate a beep in setup, which should only\n",
        "  // occur once when you turn the robot on.\n",
        "  setBeep( 250 );\n",
        "}\n",
        "\n",
        "void loop() {\n",
        "\n",
        "  // Call your checkBeep() function iteratively\n",
        "  // (every loop), which should catch and turn off\n",
        "  // your beeping after the requested duration\n",
        "  // Most of the time, this function will do \"nothing\"\n",
        "  // and so not use (and not block) the processor.\n",
        "  checkBeep();\n",
        "}\n",
        "\n",
        "void setBeep( unsigned long duration_ms ) {\n",
        "  // Add the requested duration to the current\n",
        "  // count of millis(), and save this into\n",
        "  // the global variable your created.\n",
        "}\n",
        "\n",
        "void checkBeep() {\n",
        "  // Check if the current count of millis() is\n",
        "  // now greater than the value you saved in\n",
        "  // your global variable. If it is, stop the\n",
        "  // beep.\n",
        "}\n",
        "\n",
        "```\n",
        "\n"
      ],
      "metadata": {
        "id": "y117Ga71knEc"
      }
    },
    {
      "cell_type": "markdown",
      "source": [
        "<hr><br><br><br><br>\n"
      ],
      "metadata": {
        "id": "q7kEazILwfNp"
      }
    },
    {
      "cell_type": "markdown",
      "source": [
        "## Exercise 6: Task-Scheduling on the Arduino\n",
        "\n",
        "<img src=\"https://raw.githubusercontent.com/paulodowd/SEMTM0042_43/main/Images/theory.png\" align=\"left\"> In the last exercise, we used a very simple technique of calculating a count of milliseconds that will occur in the future.  Then, if the actual count of milliseconds (`millis()`) was larger than this, we simple disabled the beeping.  In the following exercise, we have to use a slightly more advanced technique with `millis()` which can be confusing at first.  An important concept is the idea of a **timestamp**.  \n",
        "\n",
        "Here, we use timestamp to mean that we record the current time, which will be a fixed count of milliseconds returned by `millis()`.  An area of common confusion is about what happens with the assignment operator `=` in the code.  Looking at the following code:\n",
        "\n",
        "```c\n",
        "// Save the current count from millis\n",
        "// into a variable of time unsigned long\n",
        "// named \"timestamp\".\n",
        "unsigned long timestamp = millis();\n",
        "```\n",
        "\n",
        "In the above code, there are two observations to make and remember:\n",
        "1. it is only the count at the time that `millis()` was called that is stored into the variable `timestamp`.  Therefore, `timestamp` will not change value after this assignment.  \n",
        "2. Behind the function `millis()`, the count does continue to increase.  Therefore, we are using `millis()` simply to access the current value of the automatic counting process.\n",
        "\n",
        "Therefore, when we use the `=` operator, **we do not link the variable to the function**.  We just save the value returned at the time the function was called.\n",
        "\n",
        "This is actually very useful for our need to schedule tasks.  For any given task, if we know when the task last occured, we can check if a specific period of time has elapsed until we run it again.  To do this, we need to save when the task happened - a **timestamp**.\n",
        "\n"
      ],
      "metadata": {
        "id": "KGUpfVCH-3Z0"
      }
    },
    {
      "cell_type": "markdown",
      "source": [
        "\n",
        "In the last excerise, you completed a **non-blocking** beeping operation using two functions.  In the future, it would be extremely useful if we can program the 3Pi+ robot to do different operations at different time intervals.  \n",
        "\n",
        "This would be difficult to do if we use **blocking code**.  For example:\n",
        "<br><br>\n",
        "- updating a measurement of wheel speed (quickly, high frequency)\n",
        "- changing the behaviour of the robot (slowly, low frequency)\n",
        "\n",
        "We can utilse the same count of milliseconds returned by `millis()` - it is always counting up in the background!  We can use the following general code structure to create the effect of scheduling tasks to happen at different time intervals:\n",
        "\n",
        "```c\n",
        "unsigned long activity_ts; // _ts, for \"timestamp\"\n",
        "unsigned long activity_ms; // _ms, how frequently, in milliseconds\n",
        "\n",
        "void setup() {\n",
        "\n",
        "  // Decide how frequently we want our activity to happen\n",
        "  // in milliseconds\n",
        "  activity_ms = 500; // every 500ms, or 2hz\n",
        "\n",
        "  // Set the timestamp with the count of milliseconds at this\n",
        "  // exact moment in time (since the robot was powered on)\n",
        "  activity_ts = millis();\n",
        "}\n",
        "\n",
        "void loop() {\n",
        "\n",
        "  // Work out how much time has passed since we last\n",
        "  // updated the activity timestamp (activity_ts)\n",
        "  // Remember: millis() is still counting up in the\n",
        "  // background as loop() is called again and again.\n",
        "  // So in effect, elapsed_time will be growing.\n",
        "  unsigned long elapsed_time;\n",
        "  elapsed_time = millis() - activity_ts;\n",
        "\n",
        "  // If more time has elapsed than we specified\n",
        "  if( elapsed_time > activity_ms ) {\n",
        "\n",
        "    // Move our timestamp (count in ms) to \"now\"\n",
        "    // so in the next iteration of loop(), the code\n",
        "    // will calculate a small elapsed_time again.\n",
        "    activity_ts = millis();\n",
        "\n",
        "    // Do operations something here, meaning they\n",
        "    // will only run every 500ms (2hz)\n",
        "    // ...\n",
        "  }\n",
        "\n",
        "}\n"
      ],
      "metadata": {
        "id": "EoFhC1PWqEKu"
      }
    },
    {
      "cell_type": "markdown",
      "source": [
        "<img src=\"https://raw.githubusercontent.com/paulodowd/SEMTM0042_43/main/Images/theory.png\" align=\"left\"> The above code extract presents some suggested variables and their names.  One suggestion is `activity_ts`, which we can read to mean \"activity timestamp\".  Adding the `_ts` to the end will help you to remember that this variable is storing a timestamp.  We can also see a variable named `activity_ms` - again, adding `_ms` here will help you to remember that this variable is storing a count of milliseconds (ms).\n",
        "\n",
        "In the next exercise, you will be asked to operate both the LED flashing and the buzzer beeping at two different time intervals.  Therefore, you will want to duplicate the variable `activity_ts`, but give them more meaningful names.  For example, `flash_led_ts`.\n",
        "\n",
        "It might now help to consider the above code as an illustration of a timeline. Remember that **the count of milliseconds is always increasing automatically in the background to your code**:\n",
        "\n",
        "<p align=\"center\">\n",
        "<img src=\"https://raw.githubusercontent.com/paulodowd/SEMTM0042_43/main/Images/millis_schedule.png\">\n",
        "</p>\n",
        "\n"
      ],
      "metadata": {
        "id": "pEx5QzfiCSh8"
      }
    },
    {
      "cell_type": "markdown",
      "source": [
        "In the above illustration, the timestamp `activity_ts` can be seen to be \"moving along the timeline\".  It is recording the time at which `elapsed_time > activity_ms`, where `activity_ms` has been set to `500` in `setup()`."
      ],
      "metadata": {
        "id": "Ae7TJ7S7HKfl"
      }
    },
    {
      "cell_type": "markdown",
      "source": [
        "<hr><br><br><br><br>"
      ],
      "metadata": {
        "id": "NtRgsePcDFqF"
      }
    },
    {
      "cell_type": "markdown",
      "source": [
        "<img src=\"https://raw.githubusercontent.com/paulodowd/SEMTM0042_43/main/Images/exercise.png\" align=\"left\">  Using the above code template, now combine the code you produced for **Exercise 2: Using Variables** (blinking the LED 10 times) and your `setBeep() / checkBeep()` functions.  See if you can make it so that you LED will flash quickly (no need to count), and you can produce a **non-blocking** beep of duration 250ms every 2seconds."
      ],
      "metadata": {
        "id": "8ZrzyHDNqPiO"
      }
    },
    {
      "cell_type": "markdown",
      "source": [
        "\n",
        "1. In the code template above, it specifies `activity_ts` and `activity_ms`.  You will need to create a unique `_ts` (timestamp) and `_ms` (interval) variable for each independent activity you want to schedule.  For example, `led_blink_ts` and `led_blink_ms`.\n",
        "2. In the code template above, an `if()` statement compares `elapsed_time` against the interval period (`activity_ms`).  You will need to create a new `if()` block for each task that is being checked to operate.  "
      ],
      "metadata": {
        "id": "dWQ89nC_s_nZ"
      }
    },
    {
      "cell_type": "markdown",
      "source": [
        "<img src=\"https://raw.githubusercontent.com/paulodowd/SEMTM0042_43/main/Images/observation.png\" align=\"left\"> **Observations:** If you are finding this exercise challenging to understand, it is highly recommended that you add `Serial.print` statements to inspect each of the variables.  This is a normal way to understand how some code is working.  Try printing the value of `millis()` at each loop(), the value of `activity_ts`, the value of `elapsed_time`, and the value of `activity_ms` (this last one should stay fixed).  It can also help to draw a timeline on paper, and work out the maths by hand (it is simple).  A member of teaching staff will be happy to discuss it with you."
      ],
      "metadata": {
        "id": "2T3zC0oJt0an"
      }
    },
    {
      "cell_type": "markdown",
      "source": [
        "<img src=\"https://raw.githubusercontent.com/paulodowd/SEMTM0042_43/main/Images/info.png\" align=\"left\"> **Information:** In reality, the 3Pi+ robot (Arduino) lacks the computational power to do real or robust task scheduling.  In the above template, we only check if `elapsed_time` is greater than `>` the interval we want `activity_ms`.  Therefore, it is possible that the elapsed time could be **a lot bigger** than our desired interval, because some other piece of code took a very long time to run.  However, it is still a very good idea to have some schedule of when your robot should perform certain operations, because this will help to make your robot behaviours more predictable, understandable and easier to debug.  If you don't try any control of the flow of your program, the timing of your program will vary greatly depending on the behaviour of the sensors, actuators, algorithms, etc."
      ],
      "metadata": {
        "id": "tu1IKfKiu3CB"
      }
    },
    {
      "cell_type": "markdown",
      "metadata": {
        "id": "NvFF2SWC7nWE"
      },
      "source": [
        "<hr><br><br><br><br>"
      ]
    }
  ]
}