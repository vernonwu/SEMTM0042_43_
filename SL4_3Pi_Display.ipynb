{
  "nbformat": 4,
  "nbformat_minor": 0,
  "metadata": {
    "colab": {
      "provenance": [],
      "toc_visible": true,
      "authorship_tag": "ABX9TyP33Ro6TttU3BXIvk6GCJqp",
      "include_colab_link": true
    },
    "kernelspec": {
      "name": "python3",
      "display_name": "Python 3"
    },
    "language_info": {
      "name": "python"
    }
  },
  "cells": [
    {
      "cell_type": "markdown",
      "metadata": {
        "id": "view-in-github",
        "colab_type": "text"
      },
      "source": [
        "<a href=\"https://colab.research.google.com/github/paulodowd/SEMTM0042_43/blob/main/SL4_3Pi_Display.ipynb\" target=\"_parent\"><img src=\"https://colab.research.google.com/assets/colab-badge.svg\" alt=\"Open In Colab\"/></a>"
      ]
    },
    {
      "cell_type": "markdown",
      "metadata": {
        "id": "Pgwc9GPCLihn"
      },
      "source": [
        "# Supplementary Labsheet 4: Using the LCD or OLED display.\n",
        "\n",
        "\n",
        "This labsheet provides instructions to install the software library for the LCD or OLED display for the 3Pi+ robot.  You will have a 3Pi+ robot that either has the connector for the LCD display, or the connector for the OLED display.  Apart from this difference in the display, the two types of robot are functionally identical.  The displays are also functionally identical: both display two rows of 8 characters.\n",
        "\n",
        "\n",
        "\n",
        "\n",
        "\n",
        "\n",
        "\n",
        "\n",
        "\n",
        "\n"
      ]
    },
    {
      "cell_type": "markdown",
      "source": [
        "<img src=\"https://raw.githubusercontent.com/paulodowd/EMATM0054_53/main/Images/info.png\" align=\"left\"> Using the display does offer some advantages when debugging your robot.  However, the display also has some **disadvantages**, such as more memory use, and more computational time use, and more battery power use.  The display will also stop the LEDs from being useful for debugging where they will flash as the LCD/OLED is updated."
      ],
      "metadata": {
        "id": "vWDEeQuQdPas"
      }
    },
    {
      "cell_type": "markdown",
      "metadata": {
        "id": "6EblFTqyclh3"
      },
      "source": [
        "<hr><br><br><br><br>"
      ]
    },
    {
      "cell_type": "markdown",
      "source": [
        "# Identify: Which robot / display type do I have?\n",
        "\n",
        "Use the graphic below to identify which display type you have.  You can collect a display module from a member of the teaching staff during a lab session.\n",
        "\n",
        "\n"
      ],
      "metadata": {
        "id": "7HN920q-agBn"
      }
    },
    {
      "cell_type": "markdown",
      "source": [
        "<img src=\"https://raw.githubusercontent.com/paulodowd/EMATM0054_53/main/Images/stop.png\" align=\"left\"> **Caution:** Use the below graphic to also check which way the display faces on top of the robot.  Plugging in the display the wrong way may **permanently damage** the robot and/or display.  When  plugging in the display, check the pins line up with the connector socket properly. If you have any doubts, please ask a member of teaching staff."
      ],
      "metadata": {
        "id": "yyypz7Wgc1qM"
      }
    },
    {
      "cell_type": "markdown",
      "source": [
        "<p align=\"center\">\n",
        "<img src=\"https://github.com/paulodowd/EMATM0054_53/blob/main/Images/IdentifyWhichDisplay.png?raw=true\">\n",
        "</p>"
      ],
      "metadata": {
        "id": "TwATEmANcpdm"
      }
    },
    {
      "cell_type": "markdown",
      "source": [
        "<hr><br><br><br><br>"
      ],
      "metadata": {
        "id": "J0U7h746dn6c"
      }
    },
    {
      "cell_type": "markdown",
      "metadata": {
        "id": "krVl33vMUFAt"
      },
      "source": [
        "# OLED: Installing the Library\n",
        "\n",
        "1. Within the Arduino IDE, navigate to `Sketch -> Include Libary -> Manage Libraries...`.\n",
        "\n",
        "<p align=\"center\">\n",
        "<img src=\"https://raw.githubusercontent.com/paulodowd/EMATM0054_53/main/Images/Arduino_ManageLibraries.jpg\">\n",
        "</p>"
      ]
    },
    {
      "cell_type": "markdown",
      "source": [
        "2. Type `PololuOLED` into the search field, as shown below.  Click install on the library entry of the same name.\n",
        "\n",
        "<p align=\"center\">\n",
        "<img src=\"https://raw.githubusercontent.com/paulodowd/EMATM0054_53/main/Images/LibraryPololuOLED.png\">\n",
        "</p>"
      ],
      "metadata": {
        "id": "XdiN5mVde-AD"
      }
    },
    {
      "cell_type": "markdown",
      "metadata": {
        "id": "RGHdKAoCcoFv"
      },
      "source": [
        "<hr><br><br><br><br>"
      ]
    },
    {
      "cell_type": "markdown",
      "source": [
        "# LCD: Installing the Library\n",
        "\n",
        "1. Within the Arduino IDE, navigate to `Sketch -> Include Libary -> Manage Libraries...`.\n",
        "\n",
        "<p align=\"center\">\n",
        "<img src=\"https://raw.githubusercontent.com/paulodowd/EMATM0054_53/main/Images/Arduino_ManageLibraries.jpg\">\n",
        "</p>"
      ],
      "metadata": {
        "id": "eu1zfwTIeXz0"
      }
    },
    {
      "cell_type": "markdown",
      "source": [
        "2. Type `PololuHD44780` into the search field, as shown below.  Click install on the library entry of the same name.\n",
        "\n",
        "<p align=\"center\">\n",
        "<img src=\"https://raw.githubusercontent.com/paulodowd/EMATM0054_53/main/Images/LibraryLCD.png\">\n",
        "</p>"
      ],
      "metadata": {
        "id": "g-wd_BL1fS9L"
      }
    },
    {
      "cell_type": "markdown",
      "source": [
        "<hr><br><br><br><br>"
      ],
      "metadata": {
        "id": "5x2-BKGBimVy"
      }
    },
    {
      "cell_type": "markdown",
      "source": [
        "# Using the LCD or OLED Display\n",
        "\n",
        "\n",
        "\n",
        "\n",
        "\n"
      ],
      "metadata": {
        "id": "2J3oO4D2imAb"
      }
    },
    {
      "cell_type": "markdown",
      "source": [
        "<img src=\"https://raw.githubusercontent.com/paulodowd/EMATM0054_53/main/Images/info.png\" align=\"left\"> The LCD display has **2 rows** of **8 characters**.  You will need to decide how to use these effectively."
      ],
      "metadata": {
        "id": "HC9U5yxkivVS"
      }
    },
    {
      "cell_type": "markdown",
      "source": [
        "<img src=\"https://raw.githubusercontent.com/paulodowd/EMATM0054_53/main/Images/info.png\" align=\"left\"> Using the OLED or LCD display also enables and disables the USB connection. Therefore, if you open and then close the Serial Monitor, you will notice that the update of the LCD display becomes slow.  "
      ],
      "metadata": {
        "id": "D4SAiOqIsiDI"
      }
    },
    {
      "cell_type": "markdown",
      "source": [
        "<img src=\"https://raw.githubusercontent.com/paulodowd/SEMTM0042_43/main/Images/exercise.png\" align=\"left\">  Depending on whether you are using the OLED display or the LCD display, find the following lines of code in the 3Pi_CodeStub and uncomment them so they appear as below:"
      ],
      "metadata": {
        "id": "2JltxABnYTDM"
      }
    },
    {
      "cell_type": "markdown",
      "source": [
        "```c\n",
        "// For the OLED display\n",
        "#include \"oled.h\"\n",
        "OLED_c display;\n",
        "```"
      ],
      "metadata": {
        "id": "Bte-SaCQYa4c"
      }
    },
    {
      "cell_type": "markdown",
      "source": [
        "```c\n",
        "// For the LCD display\n",
        "#include \"lcd.h\"\n",
        "LCD_c display;"
      ],
      "metadata": {
        "id": "SS-ac2OtYhgU"
      }
    },
    {
      "cell_type": "markdown",
      "source": [
        "<img src=\"https://raw.githubusercontent.com/paulodowd/EMATM0054_53/main/Images/info.png\" align=\"left\"> If your code does not compile after this (it generates an error) you will need to go back and install the correct software library, as discussed above."
      ],
      "metadata": {
        "id": "Yf17eyFaYqxN"
      }
    },
    {
      "cell_type": "markdown",
      "source": [
        "<img src=\"https://raw.githubusercontent.com/paulodowd/SEMTM0042_43/main/Images/exercise.png\" align=\"left\"> In your `loop()`, try inserting the following lines of code:"
      ],
      "metadata": {
        "id": "UysgbKSUYyq9"
      }
    },
    {
      "cell_type": "markdown",
      "source": [
        "```c\n",
        "void loop() {\n",
        "\n",
        "  // Go to column 0, row 0 on display\n",
        "  display.gotoXY( 0, 0 );\n",
        "  \n",
        "  // Print a random number on the top row\n",
        "  display.print( random(0, 100 ) );\n",
        "\n",
        "  // Go to column 0, row 1 on display\n",
        "  display.gotoXY( 0, 1 );\n",
        "  \n",
        "  // Print text on the botom row\n",
        "  display.print( \"Test\" );\n",
        "\n",
        "  // Delay so that we can observe the\n",
        "  // changes to the display.  \n",
        "  delay(500);\n",
        "\n",
        "}"
      ],
      "metadata": {
        "id": "GgnqESCbY3it"
      }
    },
    {
      "cell_type": "markdown",
      "source": [
        "<img src=\"https://raw.githubusercontent.com/paulodowd/EMATM0054_53/main/Images/info.png\" align=\"left\"> You can use the same `.print()` command that you would use for the `Serial` port.  Note that you will need to tell the display where to start displaying the output with `display.gotoXY()`"
      ],
      "metadata": {
        "id": "-Tds3XmWZQVN"
      }
    },
    {
      "cell_type": "markdown",
      "source": [
        "<img src=\"https://raw.githubusercontent.com/paulodowd/SEMTM0042_43/main/Images/exercise.png\" align=\"left\"> Following similar steps described in Labsheet 1, use `mircos()` to capture the count in microseconds before and after the display update.  Use these two count values to work out how much time was used to update the display.  What do you notice?  "
      ],
      "metadata": {
        "id": "R0azMtIMZeR9"
      }
    },
    {
      "cell_type": "markdown",
      "source": [
        "<hr><br><br><br><br>"
      ],
      "metadata": {
        "id": "fKIp-Kc9eavt"
      }
    }
  ]
}